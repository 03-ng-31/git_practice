{
 "cells": [
  {
   "cell_type": "code",
   "execution_count": 1,
   "id": "64d8acca",
   "metadata": {
    "height": 30
   },
   "outputs": [
    {
     "name": "stdout",
     "output_type": "stream",
     "text": [
      "Defaulting to user installation because normal site-packages is not writeable\n",
      "Collecting langchain_community\n",
      "  Downloading langchain_community-0.2.3-py3-none-any.whl.metadata (9.0 kB)\n",
      "Requirement already satisfied: PyYAML>=5.3 in /usr/local/lib/python3.9/site-packages (from langchain_community) (6.0.1)\n",
      "Requirement already satisfied: SQLAlchemy<3,>=1.4 in /usr/local/lib/python3.9/site-packages (from langchain_community) (2.0.22)\n",
      "Requirement already satisfied: aiohttp<4.0.0,>=3.8.3 in /usr/local/lib/python3.9/site-packages (from langchain_community) (3.8.6)\n",
      "Requirement already satisfied: dataclasses-json<0.7,>=0.5.7 in /usr/local/lib/python3.9/site-packages (from langchain_community) (0.6.1)\n",
      "Collecting langchain<0.3.0,>=0.2.0 (from langchain_community)\n",
      "  Downloading langchain-0.2.2-py3-none-any.whl.metadata (13 kB)\n",
      "Collecting langchain-core<0.3.0,>=0.2.0 (from langchain_community)\n",
      "  Downloading langchain_core-0.2.4-py3-none-any.whl.metadata (5.9 kB)\n",
      "Collecting langsmith<0.2.0,>=0.1.0 (from langchain_community)\n",
      "  Downloading langsmith-0.1.73-py3-none-any.whl.metadata (13 kB)\n",
      "Requirement already satisfied: numpy<2,>=1 in /usr/local/lib/python3.9/site-packages (from langchain_community) (1.26.1)\n",
      "Requirement already satisfied: requests<3,>=2 in /usr/local/lib/python3.9/site-packages (from langchain_community) (2.31.0)\n",
      "Requirement already satisfied: tenacity<9.0.0,>=8.1.0 in /usr/local/lib/python3.9/site-packages (from langchain_community) (8.2.3)\n",
      "Requirement already satisfied: attrs>=17.3.0 in /usr/local/lib/python3.9/site-packages (from aiohttp<4.0.0,>=3.8.3->langchain_community) (23.1.0)\n",
      "Requirement already satisfied: charset-normalizer<4.0,>=2.0 in /usr/local/lib/python3.9/site-packages (from aiohttp<4.0.0,>=3.8.3->langchain_community) (3.3.1)\n",
      "Requirement already satisfied: multidict<7.0,>=4.5 in /usr/local/lib/python3.9/site-packages (from aiohttp<4.0.0,>=3.8.3->langchain_community) (6.0.4)\n",
      "Requirement already satisfied: async-timeout<5.0,>=4.0.0a3 in /usr/local/lib/python3.9/site-packages (from aiohttp<4.0.0,>=3.8.3->langchain_community) (4.0.3)\n",
      "Requirement already satisfied: yarl<2.0,>=1.0 in /usr/local/lib/python3.9/site-packages (from aiohttp<4.0.0,>=3.8.3->langchain_community) (1.9.2)\n",
      "Requirement already satisfied: frozenlist>=1.1.1 in /usr/local/lib/python3.9/site-packages (from aiohttp<4.0.0,>=3.8.3->langchain_community) (1.4.0)\n",
      "Requirement already satisfied: aiosignal>=1.1.2 in /usr/local/lib/python3.9/site-packages (from aiohttp<4.0.0,>=3.8.3->langchain_community) (1.3.1)\n",
      "Requirement already satisfied: marshmallow<4.0.0,>=3.18.0 in /usr/local/lib/python3.9/site-packages (from dataclasses-json<0.7,>=0.5.7->langchain_community) (3.20.1)\n",
      "Requirement already satisfied: typing-inspect<1,>=0.4.0 in /usr/local/lib/python3.9/site-packages (from dataclasses-json<0.7,>=0.5.7->langchain_community) (0.9.0)\n",
      "Collecting langchain-text-splitters<0.3.0,>=0.2.0 (from langchain<0.3.0,>=0.2.0->langchain_community)\n",
      "  Downloading langchain_text_splitters-0.2.1-py3-none-any.whl.metadata (2.2 kB)\n",
      "Requirement already satisfied: pydantic<3,>=1 in /usr/local/lib/python3.9/site-packages (from langchain<0.3.0,>=0.2.0->langchain_community) (1.10.8)\n",
      "Requirement already satisfied: jsonpatch<2.0,>=1.33 in /usr/local/lib/python3.9/site-packages (from langchain-core<0.3.0,>=0.2.0->langchain_community) (1.33)\n",
      "Requirement already satisfied: packaging<24.0,>=23.2 in /usr/local/lib/python3.9/site-packages (from langchain-core<0.3.0,>=0.2.0->langchain_community) (23.2)\n",
      "Collecting orjson<4.0.0,>=3.9.14 (from langsmith<0.2.0,>=0.1.0->langchain_community)\n",
      "  Downloading orjson-3.10.3-cp39-cp39-manylinux_2_17_x86_64.manylinux2014_x86_64.whl.metadata (49 kB)\n",
      "\u001b[2K     \u001b[90m━━━━━━━━━━━━━━━━━━━━━━━━━━━━━━━━━━━━━━━━\u001b[0m \u001b[32m49.7/49.7 kB\u001b[0m \u001b[31m8.9 MB/s\u001b[0m eta \u001b[36m0:00:00\u001b[0m\n",
      "\u001b[?25hRequirement already satisfied: idna<4,>=2.5 in /usr/local/lib/python3.9/site-packages (from requests<3,>=2->langchain_community) (3.4)\n",
      "Requirement already satisfied: urllib3<3,>=1.21.1 in /usr/local/lib/python3.9/site-packages (from requests<3,>=2->langchain_community) (1.26.16)\n",
      "Requirement already satisfied: certifi>=2017.4.17 in /usr/local/lib/python3.9/site-packages (from requests<3,>=2->langchain_community) (2023.7.22)\n",
      "Requirement already satisfied: typing-extensions>=4.2.0 in /usr/local/lib/python3.9/site-packages (from SQLAlchemy<3,>=1.4->langchain_community) (4.8.0)\n",
      "Requirement already satisfied: greenlet!=0.4.17 in /usr/local/lib/python3.9/site-packages (from SQLAlchemy<3,>=1.4->langchain_community) (3.0.0)\n",
      "Requirement already satisfied: jsonpointer>=1.9 in /usr/local/lib/python3.9/site-packages (from jsonpatch<2.0,>=1.33->langchain-core<0.3.0,>=0.2.0->langchain_community) (2.4)\n",
      "Requirement already satisfied: mypy-extensions>=0.3.0 in /usr/local/lib/python3.9/site-packages (from typing-inspect<1,>=0.4.0->dataclasses-json<0.7,>=0.5.7->langchain_community) (1.0.0)\n",
      "Downloading langchain_community-0.2.3-py3-none-any.whl (2.2 MB)\n",
      "\u001b[2K   \u001b[90m━━━━━━━━━━━━━━━━━━━━━━━━━━━━━━━━━━━━━━━━\u001b[0m \u001b[32m2.2/2.2 MB\u001b[0m \u001b[31m49.7 MB/s\u001b[0m eta \u001b[36m0:00:00\u001b[0m00:01\u001b[0m\n",
      "\u001b[?25hDownloading langchain-0.2.2-py3-none-any.whl (973 kB)\n",
      "\u001b[2K   \u001b[90m━━━━━━━━━━━━━━━━━━━━━━━━━━━━━━━━━━━━━━━━\u001b[0m \u001b[32m973.6/973.6 kB\u001b[0m \u001b[31m51.8 MB/s\u001b[0m eta \u001b[36m0:00:00\u001b[0m\n",
      "\u001b[?25hDownloading langchain_core-0.2.4-py3-none-any.whl (310 kB)\n",
      "\u001b[2K   \u001b[90m━━━━━━━━━━━━━━━━━━━━━━━━━━━━━━━━━━━━━━━━\u001b[0m \u001b[32m310.4/310.4 kB\u001b[0m \u001b[31m44.6 MB/s\u001b[0m eta \u001b[36m0:00:00\u001b[0m\n",
      "\u001b[?25hDownloading langsmith-0.1.73-py3-none-any.whl (124 kB)\n",
      "\u001b[2K   \u001b[90m━━━━━━━━━━━━━━━━━━━━━━━━━━━━━━━━━━━━━━━━\u001b[0m \u001b[32m124.7/124.7 kB\u001b[0m \u001b[31m19.7 MB/s\u001b[0m eta \u001b[36m0:00:00\u001b[0m\n",
      "\u001b[?25hDownloading langchain_text_splitters-0.2.1-py3-none-any.whl (23 kB)\n",
      "Downloading orjson-3.10.3-cp39-cp39-manylinux_2_17_x86_64.manylinux2014_x86_64.whl (142 kB)\n",
      "\u001b[2K   \u001b[90m━━━━━━━━━━━━━━━━━━━━━━━━━━━━━━━━━━━━━━━━\u001b[0m \u001b[32m142.3/142.3 kB\u001b[0m \u001b[31m24.5 MB/s\u001b[0m eta \u001b[36m0:00:00\u001b[0m\n",
      "\u001b[?25hInstalling collected packages: orjson, langsmith, langchain-core, langchain-text-splitters, langchain, langchain_community\n",
      "\u001b[33m  WARNING: The script langsmith is installed in '/home/jovyan/.local/bin' which is not on PATH.\n",
      "  Consider adding this directory to PATH or, if you prefer to suppress this warning, use --no-warn-script-location.\u001b[0m\u001b[33m\n",
      "\u001b[0m\u001b[33m  WARNING: The script langchain-server is installed in '/home/jovyan/.local/bin' which is not on PATH.\n",
      "  Consider adding this directory to PATH or, if you prefer to suppress this warning, use --no-warn-script-location.\u001b[0m\u001b[33m\n",
      "\u001b[0mSuccessfully installed langchain-0.2.2 langchain-core-0.2.4 langchain-text-splitters-0.2.1 langchain_community-0.2.3 langsmith-0.1.73 orjson-3.10.3\n",
      "\n",
      "\u001b[1m[\u001b[0m\u001b[34;49mnotice\u001b[0m\u001b[1;39;49m]\u001b[0m\u001b[39;49m A new release of pip is available: \u001b[0m\u001b[31;49m23.3.1\u001b[0m\u001b[39;49m -> \u001b[0m\u001b[32;49m24.0\u001b[0m\n",
      "\u001b[1m[\u001b[0m\u001b[34;49mnotice\u001b[0m\u001b[1;39;49m]\u001b[0m\u001b[39;49m To update, run: \u001b[0m\u001b[32;49mpip3 install --upgrade pip\u001b[0m\n",
      "Note: you may need to restart the kernel to use updated packages.\n"
     ]
    }
   ],
   "source": [
    "pip install langchain_community "
   ]
  },
  {
   "cell_type": "code",
   "execution_count": 2,
   "id": "4ff39dd9",
   "metadata": {
    "height": 30
   },
   "outputs": [
    {
     "name": "stdout",
     "output_type": "stream",
     "text": [
      "Defaulting to user installation because normal site-packages is not writeable\n",
      "Collecting langgraph\n",
      "  Downloading langgraph-0.0.62-py3-none-any.whl.metadata (23 kB)\n",
      "Requirement already satisfied: langchain-core<0.3,>=0.2 in /home/jovyan/.local/lib/python3.9/site-packages (from langgraph) (0.2.4)\n",
      "Requirement already satisfied: PyYAML>=5.3 in /usr/local/lib/python3.9/site-packages (from langchain-core<0.3,>=0.2->langgraph) (6.0.1)\n",
      "Requirement already satisfied: jsonpatch<2.0,>=1.33 in /usr/local/lib/python3.9/site-packages (from langchain-core<0.3,>=0.2->langgraph) (1.33)\n",
      "Requirement already satisfied: langsmith<0.2.0,>=0.1.66 in /home/jovyan/.local/lib/python3.9/site-packages (from langchain-core<0.3,>=0.2->langgraph) (0.1.73)\n",
      "Requirement already satisfied: packaging<24.0,>=23.2 in /usr/local/lib/python3.9/site-packages (from langchain-core<0.3,>=0.2->langgraph) (23.2)\n",
      "Requirement already satisfied: pydantic<3,>=1 in /usr/local/lib/python3.9/site-packages (from langchain-core<0.3,>=0.2->langgraph) (1.10.8)\n",
      "Requirement already satisfied: tenacity<9.0.0,>=8.1.0 in /usr/local/lib/python3.9/site-packages (from langchain-core<0.3,>=0.2->langgraph) (8.2.3)\n",
      "Requirement already satisfied: jsonpointer>=1.9 in /usr/local/lib/python3.9/site-packages (from jsonpatch<2.0,>=1.33->langchain-core<0.3,>=0.2->langgraph) (2.4)\n",
      "Requirement already satisfied: orjson<4.0.0,>=3.9.14 in /home/jovyan/.local/lib/python3.9/site-packages (from langsmith<0.2.0,>=0.1.66->langchain-core<0.3,>=0.2->langgraph) (3.10.3)\n",
      "Requirement already satisfied: requests<3,>=2 in /usr/local/lib/python3.9/site-packages (from langsmith<0.2.0,>=0.1.66->langchain-core<0.3,>=0.2->langgraph) (2.31.0)\n",
      "Requirement already satisfied: typing-extensions>=4.2.0 in /usr/local/lib/python3.9/site-packages (from pydantic<3,>=1->langchain-core<0.3,>=0.2->langgraph) (4.8.0)\n",
      "Requirement already satisfied: charset-normalizer<4,>=2 in /usr/local/lib/python3.9/site-packages (from requests<3,>=2->langsmith<0.2.0,>=0.1.66->langchain-core<0.3,>=0.2->langgraph) (3.3.1)\n",
      "Requirement already satisfied: idna<4,>=2.5 in /usr/local/lib/python3.9/site-packages (from requests<3,>=2->langsmith<0.2.0,>=0.1.66->langchain-core<0.3,>=0.2->langgraph) (3.4)\n",
      "Requirement already satisfied: urllib3<3,>=1.21.1 in /usr/local/lib/python3.9/site-packages (from requests<3,>=2->langsmith<0.2.0,>=0.1.66->langchain-core<0.3,>=0.2->langgraph) (1.26.16)\n",
      "Requirement already satisfied: certifi>=2017.4.17 in /usr/local/lib/python3.9/site-packages (from requests<3,>=2->langsmith<0.2.0,>=0.1.66->langchain-core<0.3,>=0.2->langgraph) (2023.7.22)\n",
      "Downloading langgraph-0.0.62-py3-none-any.whl (88 kB)\n",
      "\u001b[2K   \u001b[90m━━━━━━━━━━━━━━━━━━━━━━━━━━━━━━━━━━━━━━━━\u001b[0m \u001b[32m88.0/88.0 kB\u001b[0m \u001b[31m11.1 MB/s\u001b[0m eta \u001b[36m0:00:00\u001b[0m\n",
      "\u001b[?25hInstalling collected packages: langgraph\n",
      "Successfully installed langgraph-0.0.62\n",
      "\n",
      "\u001b[1m[\u001b[0m\u001b[34;49mnotice\u001b[0m\u001b[1;39;49m]\u001b[0m\u001b[39;49m A new release of pip is available: \u001b[0m\u001b[31;49m23.3.1\u001b[0m\u001b[39;49m -> \u001b[0m\u001b[32;49m24.0\u001b[0m\n",
      "\u001b[1m[\u001b[0m\u001b[34;49mnotice\u001b[0m\u001b[1;39;49m]\u001b[0m\u001b[39;49m To update, run: \u001b[0m\u001b[32;49mpip3 install --upgrade pip\u001b[0m\n",
      "Note: you may need to restart the kernel to use updated packages.\n"
     ]
    }
   ],
   "source": [
    "pip install langgraph"
   ]
  },
  {
   "cell_type": "code",
   "execution_count": 3,
   "id": "443d88f0",
   "metadata": {
    "height": 421
   },
   "outputs": [],
   "source": [
    "from langchain.chains import ConversationChain\n",
    "from langchain.prompts import ChatPromptTemplate\n",
    "from langchain.chat_models import ChatOpenAI\n",
    "from langchain.memory import ConversationBufferMemory\n",
    "import os\n",
    "import openai\n",
    "from dotenv import load_dotenv, find_dotenv\n",
    "_ = load_dotenv(find_dotenv())  # read local .env file\n",
    "openai_api_key = os.getenv(\"OPENAI_API_KEY\")\n",
    "\n",
    "\n",
    "from langchain.tools import tool\n",
    "import uuid\n",
    "\n",
    "\n",
    "\n",
    "from pydantic import BaseModel, Field\n",
    "from langchain.utils.openai_functions import convert_pydantic_to_openai_function\n",
    "from langchain.tools.render import format_tool_to_openai_function\n",
    "from langchain.chat_models import ChatOpenAI\n",
    "from langchain.prompts import ChatPromptTemplate\n",
    "from langchain.tools.render import format_tool_to_openai_function\n",
    "from langchain.agents.output_parsers import OpenAIFunctionsAgentOutputParser\n",
    "from langchain.agents import AgentExecutor\n",
    "from langchain.prompts import ChatPromptTemplate, MessagesPlaceholder"
   ]
  },
  {
   "cell_type": "markdown",
   "id": "d587364b",
   "metadata": {
    "height": 30
   },
   "source": [
    "- Prompts Definition: Define two different prompt templates for replacing an existing address and adding a new address.\n",
    "- LLM Instance: Create an instance of the language model (ChatOpenAI).\n",
    "- Memory Buffer: Use ConversationBufferMemory to handle the chat history.\n",
    "- LLM Chains: Create LLMChain objects for both prompts, integrating the memory buffer.\n",
    "- Runnable Objects: Create RunnableLambda objects to wrap the chain runs.\n",
    "- Parallel Execution: Use RunnableParallel to run both chains in parallel.\n",
    "- Function Binding: Bind functions for address extraction.\n",
    "- Agent Executor: Integrate everything into AgentExecutor, using the memory buffer to maintain context."
   ]
  },
  {
   "cell_type": "code",
   "execution_count": 17,
   "id": "fff33f51",
   "metadata": {
    "height": 591
   },
   "outputs": [],
   "source": [
    "#depreciated\n",
    "# Define the combined chat prompt template for replacing an existing address\n",
    "replace_address_prompt = ChatPromptTemplate.from_messages([\n",
    "    MessagesPlaceholder(variable_name=\"chat_history\"),\n",
    "    (\"system\",\n",
    "        \"You are a helpful and polite landlord portal support agent. Your task is to assist users with replacing address with an exisiting one. Follow these guidelines strictly:\\n\"\n",
    "        \"1. Gather the contract ID information from the user.\\n\"\n",
    "        \"2. Fetch and present the list of addresses associated with the provided contract ID from the tenant table.\\n\"\n",
    "        \"3. Do not ask for any other information.\\n\"\n",
    "        \"4. Do not answer any questions outside of replacing address with an exisiting one.\\n\"\n",
    "        \"5. If the user asks about the conversation so far answer within the context.\\n\"\n",
    "        \"6. If the user asks a question unrelated to address changes, politely ask the user to stay within the context of the conversation.\\n\"\n",
    "        \"\\n\"\n",
    "        \"If the user wants to replace an existing address, follow these steps:\\n\"\n",
    "        \"Step 1: If the user wants to replace an existing address, ask for the contract ID.\\n\"\n",
    "        \"Step 2: Fetch and present the list of addresses associated with the provided contract ID from the tenant table.\\n\"\n",
    "        \"Step 3: Ask the user to select one address to replace.\\n\"\n",
    "        \"Step 4: Confirm the choice and generate a reference ID.\\n\"\n",
    "        \"Step 5: Respond with: 'Great, we have received your request to replace with an existing address. Kindly note your reference ID [reference_id] for further communications.'\\n\"\n",
    "        \"\\n\"\n",
    "        \"Example Conversation:\\n\"\n",
    "        \"User: \"\n",
    "        \"Assistant: Would you like to replace address with an existing address?\\n\"\n",
    "        \"User: Replace address\\n\"\n",
    "        \"Assistant: Provide me your contract ID.\\n\"\n",
    "        \"User: ABC1003\\n\"\n",
    "        \"Assistant: Fetches the list of addresses with the contract ID from a database and displays:\\n\"\n",
    "        \"1. 123 Main St, Springfield, IL, 62704\\n\"\n",
    "        \"2. 456 Oak St, Springfield, IL, 62705\\n\"\n",
    "        \"User: 2\\n\"\n",
    "        \"Assistant: Great, we have received your request to replace with an existing address. Kindly note your reference ID abc12234 for further communications.\\n\"\n",
    "    ),\n",
    "    (\"user\", \"{user_input}\"),\n",
    "])"
   ]
  },
  {
   "cell_type": "code",
   "execution_count": 4,
   "id": "d8bfa32b",
   "metadata": {
    "height": 2716
   },
   "outputs": [],
   "source": [
    "# Define the combined chat prompt template for replacing an existing address using ReACT framework\n",
    "replace_address_prompt = ChatPromptTemplate.from_messages([\n",
    "    MessagesPlaceholder(variable_name=\"chat_history\"),\n",
    "    (\"system\",\n",
    "        \"You are a helpful and polite landlord portal support agent. Your task is to assist users with replacing an address from an existing list of addresses. Follow these guidelines strictly:\\n\"\n",
    "        \"1. Gather the contract ID information from the user.\\n\"\n",
    "        \"2. Fetch and present the list of addresses associated with the provided contract ID from the tenant table.\\n\"\n",
    "        \"3. Do not ask for any other information.\\n\"\n",
    "        \"4. Do not answer any questions outside of replacing an address from an existing list of addresses.\\n\"\n",
    "        \"5. If the user asks about the conversation so far, answer within the context.\\n\"\n",
    "        \"6. If the user asks a question unrelated to address changes, politely ask the user to stay within the context of the conversation.\\n\"\n",
    "        \"7. If the user expresses confusion or asks for repetition, politely clarify and repeat the necessary information.\\n\"\n",
    "        \"8. If the user wants to go back one step, provide the previous stage's information.\\n\"\n",
    "        \"9. If the user selects an invalid option, politely ask them to select a valid option from the list.\\n\"\n",
    "        \"\\n\"\n",
    "        \"Example Conversations:\\n\"\n",
    "        \"\\n\"\n",
    "        \"Example 1:\\n\"\n",
    "        \"User: I want to replace my address.\\n\"\n",
    "        \"Assistant: Sure, I can help with that. Please provide your contract ID.\\n\"\n",
    "        \"User: DEF4567\\n\"\n",
    "        \"Assistant: Fetching the list of addresses associated with contract ID DEF4567...\\n\"\n",
    "        \"1. 789 Pine St, Springfield, IL, 62706\\n\"\n",
    "        \"2. 101 Maple St, Springfield, IL, 62707\\n\"\n",
    "        \"User: 1\\n\"\n",
    "        \"Assistant: Great, we have received your request to replace the address. Kindly note your reference ID def56789 for further communications.\\n\"\n",
    "        \"\\n\"\n",
    "        \"Example 2:\\n\"\n",
    "        \"User: I want to replace my address.\\n\"\n",
    "        \"Assistant: Sure, I can help with that. Please provide your contract ID.\\n\"\n",
    "        \"User: GHI8901\\n\"\n",
    "        \"Assistant: Fetching the list of addresses associated with contract ID GHI8901...\\n\"\n",
    "        \"1. 234 Elm St, Springfield, IL, 62708\\n\"\n",
    "        \"2. 345 Cedar St, Springfield, IL, 62709\\n\"\n",
    "        \"User: What time does the office close?\\n\"\n",
    "        \"Assistant: Please stay within the context of the conversation. Would you like to replace an address? Please select one address from the list.\\n\"\n",
    "        \"User: 2\\n\"\n",
    "        \"Assistant: Great, we have received your request to replace the address. Kindly note your reference ID ghi89101 for further communications.\\n\"\n",
    "        \"\\n\"\n",
    "        \"Example 3:\\n\"\n",
    "        \"User: I want to replace my address.\\n\"\n",
    "        \"Assistant: Sure, I can help with that. Please provide your contract ID.\\n\"\n",
    "        \"User: JKL1234\\n\"\n",
    "        \"Assistant: Fetching the list of addresses associated with contract ID JKL1234...\\n\"\n",
    "        \"1. 456 Birch St, Springfield, IL, 62710\\n\"\n",
    "        \"2. 567 Walnut St, Springfield, IL, 62711\\n\"\n",
    "        \"User: What did we talk about earlier?\\n\"\n",
    "        \"Assistant: We were discussing replacing your address. You provided contract ID JKL1234. Please select one address from the list.\\n\"\n",
    "        \"User: 1\\n\"\n",
    "        \"Assistant: Great, we have received your request to replace the address. Kindly note your reference ID jkl12345 for further communications.\\n\"\n",
    "        \"\\n\"\n",
    "        \"Example 4:\\n\"\n",
    "        \"User: I want to replace my address.\\n\"\n",
    "        \"Assistant: Sure, I can help with that. Please provide your contract ID.\\n\"\n",
    "        \"User: MNO5678\\n\"\n",
    "        \"Assistant: The provided contract ID does not match any records. Please check the contract ID and provide it again.\\n\"\n",
    "        \"User: MNO8765\\n\"\n",
    "        \"Assistant: Fetching the list of addresses associated with contract ID MNO8765...\\n\"\n",
    "        \"1. 678 Oak St, Springfield, IL, 62712\\n\"\n",
    "        \"2. 789 Ash St, Springfield, IL, 62713\\n\"\n",
    "        \"User: 2\\n\"\n",
    "        \"Assistant: Great, we have received your request to replace the address. Kindly note your reference ID mno87654 for further communications.\\n\"\n",
    "        \"\\n\"\n",
    "        \"Example 5:\\n\"\n",
    "        \"User: I want to replace my address.\\n\"\n",
    "        \"Assistant: Sure, I can help with that. Please provide your contract ID.\\n\"\n",
    "        \"User: PQR9012\\n\"\n",
    "        \"Assistant: Fetching the list of addresses associated with contract ID PQR9012...\\n\"\n",
    "        \"1. 890 Fir St, Springfield, IL, 62714\\n\"\n",
    "        \"2. 901 Spruce St, Springfield, IL, 62715\\n\"\n",
    "        \"User: Can you confirm the details of address 1?\\n\"\n",
    "        \"Assistant: The address is 890 Fir St, Springfield, IL, 62714. Please confirm if you would like to replace with this address.\\n\"\n",
    "        \"User: Yes, replace with address 1.\\n\"\n",
    "        \"Assistant: Great, we have received your request to replace the address. Kindly note your reference ID pqr90123 for further communications.\\n\"\n",
    "        \"\\n\"\n",
    "        \"Example 6:\\n\"\n",
    "        \"User: I want to replace my address.\\n\"\n",
    "        \"Assistant: Sure, I can help with that. Please provide your contract ID.\\n\"\n",
    "        \"User: STU3456 and the new address is 345 Pine St\\n\"\n",
    "        \"Assistant: Please provide only your contract ID to proceed with replacing an existing address.\\n\"\n",
    "        \"User: STU3456\\n\"\n",
    "        \"Assistant: Fetching the list of addresses associated with contract ID STU3456...\\n\"\n",
    "        \"1. 123 Oak St, Springfield, IL, 62716\\n\"\n",
    "        \"2. 456 Maple St, Springfield, IL, 62717\\n\"\n",
    "        \"User: 2\\n\"\n",
    "        \"Assistant: Great, we have received your request to replace the address. Kindly note your reference ID stu34567 for further communications.\\n\"\n",
    "        \"\\n\"\n",
    "        \"Example 7:\\n\"\n",
    "        \"User: I want to replace my address.\\n\"\n",
    "        \"Assistant: Sure, I can help with that. Please provide your contract ID.\\n\"\n",
    "        \"User: VWX6789\\n\"\n",
    "        \"Assistant: Fetching the list of addresses associated with contract ID VWX6789...\\n\"\n",
    "        \"1. 234 Birch St, Springfield, IL, 62718\\n\"\n",
    "        \"2. 345 Cedar St, Springfield, IL, 62719\\n\"\n",
    "        \"User: Nevermind, I don't want to change it.\\n\"\n",
    "        \"Assistant: No problem. If you need further assistance, please let me know.\\n\"\n",
    "        \"\\n\"\n",
    "        \"Example 8:\\n\"\n",
    "        \"User: I want to replace my address.\\n\"\n",
    "        \"Assistant: Sure, I can help with that. Please provide your contract ID.\\n\"\n",
    "        \"User: YZA1234\\n\"\n",
    "        \"Assistant: Fetching the list of addresses associated with contract ID YZA1234...\\n\"\n",
    "        \"1. 567 Elm St, Springfield, IL, 62720\\n\"\n",
    "        \"2. 678 Pine St, Springfield, IL, 62721\\n\"\n",
    "        \"User: Are you sure these are the correct addresses?\\n\"\n",
    "        \"Assistant: Yes, these are the addresses associated with contract ID YZA1234. Please select one address to replace.\\n\"\n",
    "        \"User: 1\\n\"\n",
    "        \"Assistant: Great, we have received your request to replace the address. Kindly note your reference ID yza12345 for further communications.\\n\"\n",
    "        \"\\n\"\n",
    "        \"Example 9:\\n\"\n",
    "        \"User: I don't understand.\\n\"\n",
    "        \"Assistant: I'm here to assist you. I can help you replace an address from an existing list of addresses. Please provide your contract ID.\\n\"\n",
    "        \"\\n\"\n",
    "        \"Example 10:\\n\"\n",
    "        \"User: Please repeat.\\n\"\n",
    "        \"Assistant: Certainly! I can help you replace an address from an existing list of addresses. Please provide your contract ID.\\n\"\n",
    "        \"\\n\"\n",
    "        \"Example 11:\\n\"\n",
    "        \"User: Can you tell me what was done so far?\\n\"\n",
    "        \"Assistant: Sure, we have discussed the process of replacing an address associated with a contract ID. The provided contract ID was contract_id. We fetched the list of addresses associated with this contract ID, and you selected an address to replace. If you have further questions, please let me know.\\n\"\n",
    "        \"\\n\"\n",
    "        \"Example 12:\\n\"\n",
    "        \"User: Can we go back one step?\\n\"\n",
    "        \"Assistant: Sure, let's go back to the previous step. Here are the addresses associated with contract ID contract_id:\\n\"\n",
    "        \"1. 123 Oak St, Springfield, IL, 62716\\n\"\n",
    "        \"2. 456 Maple St, Springfield, IL, 62717\\n\"\n",
    "        \"Please select the address you would like to replace by entering the corresponding number.\\n\"\n",
    "        \"\\n\"\n",
    "        \"Example 13:\\n\"\n",
    "        \"User: I forgot my contract ID.\\n\"\n",
    "        \"Assistant: No problem. Please check your records and provide your contract ID so we can proceed with replacing the address.\\n\"\n",
    "        \"If you cannot find your contract ID, please contact support for further assistance.\\n\"\n",
    "        \"\\n\"\n",
    "        \"Example 14:\\n\"\n",
    "        \"User: How do you know it's not correct?\\n\"\n",
    "        \"Assistant: The provided contract ID did not match any records in our system. Please double-check your contract ID and provide it again.\\n\"\n",
    "        \"\\n\"\n",
    "        \"Example 15:\\n\"\n",
    "        \"User: Yes\\n\"\n",
    "        \"Assistant: Great! Please provide your contract ID so I can assist you with replacing an address from the existing list of addresses.\\n\"\n",
    "        \"\\n\"\n",
    "        \"Example 16:\\n\"\n",
    "        \"User: I selected the wrong number for the address.\\n\"\n",
    "        \"Assistant: No problem. Let's go back to the previous step. Here are the addresses associated with contract ID contract_id:\\n\"\n",
    "        \"1. 123 Oak St, Springfield, IL, 62716\\n\"\n",
    "        \"2. 456 Maple St, Springfield, IL, 62717\\n\"\n",
    "        \"Please select the correct address by entering the corresponding number.\\n\"\n",
    "        \"\\n\"\n",
    "        \"Example 17:\\n\"\n",
    "        \"User: 3\\n\"\n",
    "        \"Assistant: The number you selected is not valid. Please select a valid address number from the list:\\n\"\n",
    "        \"1. 123 Oak St, Springfield, IL, 62716\\n\"\n",
    "        \"2. 456 Maple St, Springfield, IL, 62717\\n\"\n",
    "        \"Enter the number corresponding to the address you want to replace.\"\n",
    "    ),\n",
    "    (\"user\", \"{user_input}\"),\n",
    "])\n"
   ]
  },
  {
   "cell_type": "code",
   "execution_count": 5,
   "id": "6d717be3",
   "metadata": {
    "height": 302
   },
   "outputs": [],
   "source": [
    "# Define the AddressDetails model\n",
    "from langchain.memory import ConversationBufferMemory\n",
    "\n",
    "class AddressDetails(BaseModel):\n",
    "    \"\"\"Extracts Entities such as Contract ID, full address, city, state, zipcode from the user input.\"\"\"\n",
    "    contract_id: str = Field(description=\"Contract ID\")\n",
    "    address_lane: str = Field(description=\"Address lane provided\")\n",
    "    city: str = Field(description=\"Name of the city\")\n",
    "    state: str = Field(description=\"Name of the state\")\n",
    "    zipcode: int = Field(description=\"Zipcode or the location\")\n",
    "# Initialize memory\n",
    "memory = ConversationBufferMemory(return_messages=True, memory_key=\"chat_history\", return_context=True)\n",
    "# Define the model\n",
    "model = ChatOpenAI(temperature=0.0)\n",
    "# Define the functions\n",
    "extraction_functions = [convert_pydantic_to_openai_function(AddressDetails)]"
   ]
  },
  {
   "cell_type": "code",
   "execution_count": 6,
   "id": "e9c90277",
   "metadata": {
    "height": 268
   },
   "outputs": [],
   "source": [
    "# Bind the functions to the model\n",
    "address_extraction_model = model.bind(functions=extraction_functions)\n",
    "# Bind the functions to the model\n",
    "address_extraction_model = model.bind(functions=extraction_functions)\n",
    "# Create the chain\n",
    "chain = replace_address_prompt | address_extraction_model | OpenAIFunctionsAgentOutputParser()\n",
    "\n",
    "# Create the agent executor\n",
    "agent_executor = AgentExecutor(agent=chain, tools=[], verbose=True, memory=memory)\n",
    "# # Run the agent executor with input\n",
    "# response = agent_executor.invoke({\n",
    "#     \"user_input\": \" \"\n",
    "# })\n",
    "\n",
    "# print(response)"
   ]
  },
  {
   "cell_type": "code",
   "execution_count": null,
   "id": "d4103dda",
   "metadata": {
    "height": 268
   },
   "outputs": [],
   "source": [
    "# Run the agent executor with input\n",
    "message = \"I have slected to replace the address from an existing list, my contract ID is: \"\n",
    "print(message)\n",
    "while True:\n",
    "    user_input = input()\n",
    "    if user_input in ['exit','bye']:\n",
    "        break\n",
    "    else:\n",
    "        user_input = message +\" \"+ user_input\n",
    "        response = agent_executor.invoke({\n",
    "        \"user_input\": user_input\n",
    "        })\n",
    "        message = \"\"\n",
    "\n",
    "print(response)"
   ]
  },
  {
   "cell_type": "code",
   "execution_count": 13,
   "id": "33fec957",
   "metadata": {
    "height": 30
   },
   "outputs": [
    {
     "name": "stdout",
     "output_type": "stream",
     "text": [
      "Defaulting to user installation because normal site-packages is not writeable\n",
      "Requirement already satisfied: langchain-community in /home/jovyan/.local/lib/python3.9/site-packages (0.2.3)\n",
      "Requirement already satisfied: PyYAML>=5.3 in /usr/local/lib/python3.9/site-packages (from langchain-community) (6.0.1)\n",
      "Requirement already satisfied: SQLAlchemy<3,>=1.4 in /usr/local/lib/python3.9/site-packages (from langchain-community) (2.0.22)\n",
      "Requirement already satisfied: aiohttp<4.0.0,>=3.8.3 in /usr/local/lib/python3.9/site-packages (from langchain-community) (3.8.6)\n",
      "Requirement already satisfied: dataclasses-json<0.7,>=0.5.7 in /usr/local/lib/python3.9/site-packages (from langchain-community) (0.6.1)\n",
      "Requirement already satisfied: langchain<0.3.0,>=0.2.0 in /home/jovyan/.local/lib/python3.9/site-packages (from langchain-community) (0.2.2)\n",
      "Requirement already satisfied: langchain-core<0.3.0,>=0.2.0 in /home/jovyan/.local/lib/python3.9/site-packages (from langchain-community) (0.2.4)\n",
      "Requirement already satisfied: langsmith<0.2.0,>=0.1.0 in /home/jovyan/.local/lib/python3.9/site-packages (from langchain-community) (0.1.73)\n",
      "Requirement already satisfied: numpy<2,>=1 in /usr/local/lib/python3.9/site-packages (from langchain-community) (1.26.1)\n",
      "Requirement already satisfied: requests<3,>=2 in /usr/local/lib/python3.9/site-packages (from langchain-community) (2.31.0)\n",
      "Requirement already satisfied: tenacity<9.0.0,>=8.1.0 in /usr/local/lib/python3.9/site-packages (from langchain-community) (8.2.3)\n",
      "Requirement already satisfied: attrs>=17.3.0 in /usr/local/lib/python3.9/site-packages (from aiohttp<4.0.0,>=3.8.3->langchain-community) (23.1.0)\n",
      "Requirement already satisfied: charset-normalizer<4.0,>=2.0 in /usr/local/lib/python3.9/site-packages (from aiohttp<4.0.0,>=3.8.3->langchain-community) (3.3.1)\n",
      "Requirement already satisfied: multidict<7.0,>=4.5 in /usr/local/lib/python3.9/site-packages (from aiohttp<4.0.0,>=3.8.3->langchain-community) (6.0.4)\n",
      "Requirement already satisfied: async-timeout<5.0,>=4.0.0a3 in /usr/local/lib/python3.9/site-packages (from aiohttp<4.0.0,>=3.8.3->langchain-community) (4.0.3)\n",
      "Requirement already satisfied: yarl<2.0,>=1.0 in /usr/local/lib/python3.9/site-packages (from aiohttp<4.0.0,>=3.8.3->langchain-community) (1.9.2)\n",
      "Requirement already satisfied: frozenlist>=1.1.1 in /usr/local/lib/python3.9/site-packages (from aiohttp<4.0.0,>=3.8.3->langchain-community) (1.4.0)\n",
      "Requirement already satisfied: aiosignal>=1.1.2 in /usr/local/lib/python3.9/site-packages (from aiohttp<4.0.0,>=3.8.3->langchain-community) (1.3.1)\n",
      "Requirement already satisfied: marshmallow<4.0.0,>=3.18.0 in /usr/local/lib/python3.9/site-packages (from dataclasses-json<0.7,>=0.5.7->langchain-community) (3.20.1)\n",
      "Requirement already satisfied: typing-inspect<1,>=0.4.0 in /usr/local/lib/python3.9/site-packages (from dataclasses-json<0.7,>=0.5.7->langchain-community) (0.9.0)\n",
      "Requirement already satisfied: langchain-text-splitters<0.3.0,>=0.2.0 in /home/jovyan/.local/lib/python3.9/site-packages (from langchain<0.3.0,>=0.2.0->langchain-community) (0.2.1)\n",
      "Requirement already satisfied: pydantic<3,>=1 in /usr/local/lib/python3.9/site-packages (from langchain<0.3.0,>=0.2.0->langchain-community) (1.10.8)\n",
      "Requirement already satisfied: jsonpatch<2.0,>=1.33 in /usr/local/lib/python3.9/site-packages (from langchain-core<0.3.0,>=0.2.0->langchain-community) (1.33)\n",
      "Requirement already satisfied: packaging<24.0,>=23.2 in /usr/local/lib/python3.9/site-packages (from langchain-core<0.3.0,>=0.2.0->langchain-community) (23.2)\n",
      "Requirement already satisfied: orjson<4.0.0,>=3.9.14 in /home/jovyan/.local/lib/python3.9/site-packages (from langsmith<0.2.0,>=0.1.0->langchain-community) (3.10.3)\n",
      "Requirement already satisfied: idna<4,>=2.5 in /usr/local/lib/python3.9/site-packages (from requests<3,>=2->langchain-community) (3.4)\n",
      "Requirement already satisfied: urllib3<3,>=1.21.1 in /usr/local/lib/python3.9/site-packages (from requests<3,>=2->langchain-community) (1.26.16)\n",
      "Requirement already satisfied: certifi>=2017.4.17 in /usr/local/lib/python3.9/site-packages (from requests<3,>=2->langchain-community) (2023.7.22)\n",
      "Requirement already satisfied: typing-extensions>=4.2.0 in /usr/local/lib/python3.9/site-packages (from SQLAlchemy<3,>=1.4->langchain-community) (4.8.0)\n",
      "Requirement already satisfied: greenlet!=0.4.17 in /usr/local/lib/python3.9/site-packages (from SQLAlchemy<3,>=1.4->langchain-community) (3.0.0)\n",
      "Requirement already satisfied: jsonpointer>=1.9 in /usr/local/lib/python3.9/site-packages (from jsonpatch<2.0,>=1.33->langchain-core<0.3.0,>=0.2.0->langchain-community) (2.4)\n",
      "Requirement already satisfied: mypy-extensions>=0.3.0 in /usr/local/lib/python3.9/site-packages (from typing-inspect<1,>=0.4.0->dataclasses-json<0.7,>=0.5.7->langchain-community) (1.0.0)\n",
      "\n",
      "\u001b[1m[\u001b[0m\u001b[34;49mnotice\u001b[0m\u001b[1;39;49m]\u001b[0m\u001b[39;49m A new release of pip is available: \u001b[0m\u001b[31;49m23.3.1\u001b[0m\u001b[39;49m -> \u001b[0m\u001b[32;49m24.0\u001b[0m\n",
      "\u001b[1m[\u001b[0m\u001b[34;49mnotice\u001b[0m\u001b[1;39;49m]\u001b[0m\u001b[39;49m To update, run: \u001b[0m\u001b[32;49mpip3 install --upgrade pip\u001b[0m\n",
      "Note: you may need to restart the kernel to use updated packages.\n"
     ]
    }
   ],
   "source": [
    "pip install langchain-community"
   ]
  },
  {
   "cell_type": "code",
   "execution_count": 14,
   "id": "5169df91",
   "metadata": {
    "height": 64
   },
   "outputs": [
    {
     "ename": "ModuleNotFoundError",
     "evalue": "No module named 'langchain_community'",
     "output_type": "error",
     "traceback": [
      "\u001b[0;31m---------------------------------------------------------------------------\u001b[0m",
      "\u001b[0;31mModuleNotFoundError\u001b[0m                       Traceback (most recent call last)",
      "Cell \u001b[0;32mIn[14], line 2\u001b[0m\n\u001b[1;32m      1\u001b[0m \u001b[38;5;28;01mimport\u001b[39;00m \u001b[38;5;21;01msqlite3\u001b[39;00m\n\u001b[0;32m----> 2\u001b[0m \u001b[38;5;28;01mfrom\u001b[39;00m \u001b[38;5;21;01mlangchain_community\u001b[39;00m\u001b[38;5;21;01m.\u001b[39;00m\u001b[38;5;21;01mutilities\u001b[39;00m \u001b[38;5;28;01mimport\u001b[39;00m SQLDatabase\n\u001b[1;32m      3\u001b[0m \u001b[38;5;28;01mfrom\u001b[39;00m \u001b[38;5;21;01mlangchain_experimental\u001b[39;00m\u001b[38;5;21;01m.\u001b[39;00m\u001b[38;5;21;01msql\u001b[39;00m \u001b[38;5;28;01mimport\u001b[39;00m SQLDatabaseChain\n",
      "\u001b[0;31mModuleNotFoundError\u001b[0m: No module named 'langchain_community'"
     ]
    }
   ],
   "source": [
    "import sqlite3\n",
    "from langchain_community.utilities import SQLDatabase\n",
    "from langchain_experimental.sql import SQLDatabaseChain"
   ]
  },
  {
   "cell_type": "code",
   "execution_count": 6,
   "id": "84120d94",
   "metadata": {
    "height": 523
   },
   "outputs": [],
   "source": [
    "# Connect to the SQLite database (or create it if it doesn't exist)\n",
    "conn = sqlite3.connect('landlords.db')\n",
    "cursor = conn.cursor()\n",
    "\n",
    "# Create the table\n",
    "cursor.execute('''\n",
    "CREATE TABLE IF NOT EXISTS address (\n",
    "    Contract_ID INTEGER,\n",
    "    Date_of_Updation TEXT,\n",
    "    Address TEXT\n",
    ")\n",
    "''')\n",
    "\n",
    "# Insert dummy data\n",
    "dummy_data = [\n",
    "    (1, '2024-01-01', '123 Main St, Springfield'),\n",
    "    (1, '2024-02-01', '124 Main St, Springfield'),\n",
    "    (2, '2024-01-15', '456 Elm St, Shelbyville'),\n",
    "    (2, '2024-03-20', '457 Elm St, Shelbyville'),\n",
    "    (3, '2024-02-10', '789 Maple St, Capital City')\n",
    "]\n",
    "\n",
    "cursor.executemany('''\n",
    "INSERT INTO address (Contract_ID, Date_of_Updation, Address)\n",
    "VALUES (?, ?, ?)\n",
    "''', dummy_data)\n",
    "\n",
    "# Commit the changes and close the connection\n",
    "conn.commit()\n",
    "conn.close()"
   ]
  },
  {
   "cell_type": "code",
   "execution_count": 7,
   "id": "f08befb9",
   "metadata": {
    "height": 353
   },
   "outputs": [],
   "source": [
    "# Function to query the table\n",
    "def query_addresses(contract_id=None):\n",
    "    # Connect to the SQLite database\n",
    "    conn = sqlite3.connect('landlords.db')\n",
    "    cursor = conn.cursor()\n",
    "\n",
    "    if contract_id:\n",
    "        # Query for a specific Contract_ID\n",
    "        cursor.execute('SELECT * FROM address WHERE Contract_ID = ?', (contract_id,))\n",
    "    else:\n",
    "        # Query all records\n",
    "        cursor.execute('SELECT * FROM address')\n",
    "    \n",
    "    # Fetch all results\n",
    "    results = cursor.fetchall()\n",
    "    \n",
    "    # Close the connection\n",
    "    conn.close()\n",
    "    \n",
    "    return results"
   ]
  },
  {
   "cell_type": "code",
   "execution_count": 8,
   "id": "8cb0e0ff",
   "metadata": {
    "height": 98
   },
   "outputs": [
    {
     "name": "stdout",
     "output_type": "stream",
     "text": [
      "All records:\n",
      "(1, '2024-01-01', '123 Main St, Springfield')\n",
      "(1, '2024-02-01', '124 Main St, Springfield')\n",
      "(2, '2024-01-15', '456 Elm St, Shelbyville')\n",
      "(2, '2024-03-20', '457 Elm St, Shelbyville')\n",
      "(3, '2024-02-10', '789 Maple St, Capital City')\n"
     ]
    }
   ],
   "source": [
    "\n",
    "# Example usage\n",
    "print(\"All records:\")\n",
    "for row in query_addresses():\n",
    "    print(row)"
   ]
  },
  {
   "cell_type": "code",
   "execution_count": null,
   "id": "2ab7ac66",
   "metadata": {
    "height": 183
   },
   "outputs": [],
   "source": [
    "\n",
    "\n",
    "# Example usage\n",
    "print(\"All records:\")\n",
    "for row in query_addresses():\n",
    "    print(row)\n",
    "\n",
    "print(\"\\nRecords for Contract_ID 1:\")\n",
    "for row in query_addresses(1):\n",
    "    print(row)"
   ]
  },
  {
   "cell_type": "code",
   "execution_count": null,
   "id": "39482046",
   "metadata": {
    "height": 30
   },
   "outputs": [],
   "source": []
  },
  {
   "cell_type": "code",
   "execution_count": null,
   "id": "dd620160",
   "metadata": {
    "height": 30
   },
   "outputs": [],
   "source": []
  },
  {
   "cell_type": "code",
   "execution_count": 25,
   "id": "bc047583",
   "metadata": {
    "height": 30
   },
   "outputs": [
    {
     "name": "stdout",
     "output_type": "stream",
     "text": [
      "\n",
      "\n",
      "\u001b[1m> Entering new AgentExecutor chain...\u001b[0m\n",
      "\u001b[32;1m\u001b[1;3mPlease provide me with the contract ID associated with the address you would like to replace.\u001b[0m\n",
      "\n",
      "\u001b[1m> Finished chain.\u001b[0m\n"
     ]
    },
    {
     "data": {
      "text/plain": [
       "{'user_input': 'did you fetch it ?',\n",
       " 'chat_history': [HumanMessage(content='yes, i would like to '),\n",
       "  AIMessage(content='Would you like to replace an existing address with a new one?'),\n",
       "  HumanMessage(content='yes, i would like to '),\n",
       "  AIMessage(content='Would you like to replace an existing address with a new one?'),\n",
       "  HumanMessage(content='yes'),\n",
       "  AIMessage(content='Would you like to replace an existing address with a new one?'),\n",
       "  HumanMessage(content='replace'),\n",
       "  AIMessage(content='Please provide me with the contract ID associated with the address you would like to replace.'),\n",
       "  HumanMessage(content='abc1234'),\n",
       "  AIMessage(content=\"I'm sorry, but I need a valid contract ID to proceed. Please provide the correct contract ID associated with the address you would like to replace.\"),\n",
       "  HumanMessage(content='abc 1234'),\n",
       "  AIMessage(content=\"I'm sorry, but I need a valid contract ID to proceed. Please provide the correct contract ID associated with the address you would like to replace.\"),\n",
       "  HumanMessage(content='a1234'),\n",
       "  AIMessage(content=\"I'm sorry, but I need a valid contract ID to proceed. Please provide the correct contract ID associated with the address you would like to replace.\"),\n",
       "  HumanMessage(content='a124'),\n",
       "  AIMessage(content=\"I'm sorry, but I need a valid contract ID to proceed. Please provide the correct contract ID associated with the address you would like to replace.\"),\n",
       "  HumanMessage(content='what is a valid contract id'),\n",
       "  AIMessage(content='Please provide me with the contract ID associated with the address you would like to replace.'),\n",
       "  HumanMessage(content='ABC123'),\n",
       "  AIMessage(content='Please provide me with the address you would like to replace with the contract ID ABC123.'),\n",
       "  HumanMessage(content='did you fetch it ?'),\n",
       "  AIMessage(content='Please provide me with the contract ID associated with the address you would like to replace.')],\n",
       " 'output': 'Please provide me with the contract ID associated with the address you would like to replace.'}"
      ]
     },
     "execution_count": 25,
     "metadata": {},
     "output_type": "execute_result"
    }
   ],
   "source": [
    "agent_executor.invoke({\"user_input\": ''})"
   ]
  },
  {
   "cell_type": "code",
   "execution_count": null,
   "id": "8a39978f",
   "metadata": {
    "height": 30
   },
   "outputs": [],
   "source": []
  },
  {
   "cell_type": "markdown",
   "id": "aa399f2f",
   "metadata": {},
   "source": []
  },
  {
   "cell_type": "code",
   "execution_count": null,
   "id": "6bde023e",
   "metadata": {
    "height": 30
   },
   "outputs": [],
   "source": []
  },
  {
   "cell_type": "code",
   "execution_count": null,
   "id": "254ea35d",
   "metadata": {
    "height": 30
   },
   "outputs": [],
   "source": []
  },
  {
   "cell_type": "code",
   "execution_count": null,
   "id": "4e57e881",
   "metadata": {
    "height": 30
   },
   "outputs": [],
   "source": []
  },
  {
   "cell_type": "code",
   "execution_count": null,
   "id": "00440e16",
   "metadata": {
    "height": 574
   },
   "outputs": [],
   "source": [
    "# Define the combined chat prompt template for adding a new address\n",
    "add_address_prompt = ChatPromptTemplate.from_messages([\n",
    "    MessagesPlaceholder(variable_name=\"chat_history\"),\n",
    "    (\"system\",\n",
    "        \"You are a helpful and polite landlord portal support agent. Your task is to assist users with updating their address information. Follow these guidelines strictly:\\n\"\n",
    "        \"1. Gather the contract ID information from the user.\\n\"\n",
    "        \"2. Gather address information: address lane, city, state, and zip code.\\n\"\n",
    "        \"3. Do not ask for any other information.\\n\"\n",
    "        \"4. Do not answer any questions outside of address changes.\\n\"\n",
    "        \"5. If the user asks a question unrelated to address changes, respond with: 'My functionality is limited to address changes.'\\n\"\n",
    "        \"\\n\"\n",
    "        \"If the user wants to add a new address, follow these steps:\\n\"\n",
    "        \"Step 1: Ask for the contract ID if it has not already been provided.\\n\"\n",
    "        \"Step 2: Ask for the full address including address lane, city, state (check if the state is located in the USA), and zip code.\\n\"\n",
    "        \"Step 3: Validate that all fields are provided. If any field is missing, prompt the user to provide the missing fields one by one.\\n\"\n",
    "        \"Step 4: Generate a reference ID and respond with: 'Your request for adding a new address is received. Your reference ID is [reference_id] for future communications. Thank you!'\\n\"\n",
    "        \"\\n\"\n",
    "        \"Example Conversation:\\n\"\n",
    "        \"Assistant: Can you provide me with your Contract ID?\\n\"\n",
    "        \"Human: ABC10023\\n\"\n",
    "        \"Assistant: Do you want to replace an existing address or add a new address?\\n\"\n",
    "        \"Human: I want to add an address.\\n\"\n",
    "        \"Assistant: You chose to add a new address. Please provide the full address including address lane, city, state, and zip code.\\n\"\n",
    "        \"User: 123 Main St, Springfield\\n\"\n",
    "        \"Assistant: It seems you missed the state and zip code. Please provide the state.\\n\"\n",
    "        \"Human: Illinois\\n\"\n",
    "        \"Assistant: Please provide the zip code.\\n\"\n",
    "        \"Human: 62704\\n\"\n",
    "        \"Assistant: Thank you. Your request for adding a new address is received. Your reference ID is [reference_id] for future communications. Thank you!\\n\"\n",
    "    ),\n",
    "    (\"user\", \"{user_input}\"),\n",
    "])"
   ]
  }
 ],
 "metadata": {
  "kernelspec": {
   "display_name": "Python 3 (ipykernel)",
   "language": "python",
   "name": "python3"
  },
  "language_info": {
   "codemirror_mode": {
    "name": "ipython",
    "version": 3
   },
   "file_extension": ".py",
   "mimetype": "text/x-python",
   "name": "python",
   "nbconvert_exporter": "python",
   "pygments_lexer": "ipython3",
   "version": "3.9.18"
  }
 },
 "nbformat": 4,
 "nbformat_minor": 5
}
