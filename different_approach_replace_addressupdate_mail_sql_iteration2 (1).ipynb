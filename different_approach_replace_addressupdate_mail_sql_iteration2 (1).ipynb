{
 "cells": [
  {
   "cell_type": "code",
   "execution_count": 1,
   "id": "f11cf622",
   "metadata": {
    "height": 183
   },
   "outputs": [],
   "source": [
    "from dotenv import load_dotenv\n",
    "\n",
    "_ = load_dotenv()\n",
    "from langgraph.graph import StateGraph, END\n",
    "from typing import TypedDict, Annotated, List\n",
    "import operator\n",
    "from langgraph.checkpoint.sqlite import SqliteSaver\n",
    "from langchain_core.messages import AnyMessage, SystemMessage, HumanMessage, AIMessage, ChatMessage\n",
    "\n",
    "memory = SqliteSaver.from_conn_string(\":memory:\")"
   ]
  },
  {
   "cell_type": "code",
   "execution_count": 18,
   "id": "1804de25",
   "metadata": {
    "height": 47
   },
   "outputs": [],
   "source": [
    "os.environ['LANGCHAIN_TRACING_V2'] = \"true\"\n",
    "os.environ['LANGCHAIN_API_KEY'] = \"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\""
   ]
  },
  {
   "cell_type": "code",
   "execution_count": 2,
   "id": "443d88f0",
   "metadata": {
    "height": 421
   },
   "outputs": [],
   "source": [
    "from langchain.chains import ConversationChain\n",
    "from langchain.prompts import ChatPromptTemplate\n",
    "from langchain.chat_models import ChatOpenAI\n",
    "from langchain.memory import ConversationBufferMemory\n",
    "import os\n",
    "import openai\n",
    "from dotenv import load_dotenv, find_dotenv\n",
    "_ = load_dotenv(find_dotenv())  # read local .env file\n",
    "openai_api_key = os.getenv(\"OPENAI_API_KEY\")\n",
    "\n",
    "\n",
    "from langchain.tools import tool\n",
    "import uuid\n",
    "\n",
    "\n",
    "\n",
    "from pydantic import BaseModel, Field\n",
    "from langchain.utils.openai_functions import convert_pydantic_to_openai_function\n",
    "from langchain.tools.render import format_tool_to_openai_function\n",
    "from langchain.chat_models import ChatOpenAI\n",
    "from langchain.prompts import ChatPromptTemplate\n",
    "from langchain.tools.render import format_tool_to_openai_function\n",
    "from langchain.agents.output_parsers import OpenAIFunctionsAgentOutputParser\n",
    "from langchain.agents import AgentExecutor\n",
    "from langchain.prompts import ChatPromptTemplate, MessagesPlaceholder"
   ]
  },
  {
   "cell_type": "markdown",
   "id": "d587364b",
   "metadata": {
    "height": 30
   },
   "source": [
    "- Prompts Definition: Define two different prompt templates for replacing an existing address and adding a new address.\n",
    "- LLM Instance: Create an instance of the language model (ChatOpenAI).\n",
    "- Memory Buffer: Use ConversationBufferMemory to handle the chat history.\n",
    "- LLM Chains: Create LLMChain objects for both prompts, integrating the memory buffer.\n",
    "- Runnable Objects: Create RunnableLambda objects to wrap the chain runs.\n",
    "- Parallel Execution: Use RunnableParallel to run both chains in parallel.\n",
    "- Function Binding: Bind functions for address extraction.\n",
    "- Agent Executor: Integrate everything into AgentExecutor, using the memory buffer to maintain context."
   ]
  },
  {
   "cell_type": "code",
   "execution_count": 3,
   "id": "fff33f51",
   "metadata": {
    "height": 591
   },
   "outputs": [],
   "source": [
    "#depreciated\n",
    "# Define the combined chat prompt template for replacing an existing address\n",
    "replace_address_prompt = ChatPromptTemplate.from_messages([\n",
    "    MessagesPlaceholder(variable_name=\"chat_history\"),\n",
    "    (\"system\",\n",
    "        \"You are a helpful and polite landlord portal support agent. Your task is to assist users with replacing address with an exisiting one. Follow these guidelines strictly:\\n\"\n",
    "        \"1. Gather the contract ID information from the user.\\n\"\n",
    "        \"2. Fetch and present the list of addresses associated with the provided contract ID from the tenant table.\\n\"\n",
    "        \"3. Do not ask for any other information.\\n\"\n",
    "        \"4. Do not answer any questions outside of replacing address with an exisiting one.\\n\"\n",
    "        \"5. If the user asks about the conversation so far answer within the context.\\n\"\n",
    "        \"6. If the user asks a question unrelated to address changes, politely ask the user to stay within the context of the conversation.\\n\"\n",
    "        \"\\n\"\n",
    "        \"If the user wants to replace an existing address, follow these steps:\\n\"\n",
    "        \"Step 1: If the user wants to replace an existing address, ask for the contract ID.\\n\"\n",
    "        \"Step 2: Fetch and present the list of addresses associated with the provided contract ID from the tenant table.\\n\"\n",
    "        \"Step 3: Ask the user to select one address to replace.\\n\"\n",
    "        \"Step 4: Confirm the choice and generate a reference ID.\\n\"\n",
    "        \"Step 5: Respond with: 'Great, we have received your request to replace with an existing address. Kindly note your reference ID [reference_id] for further communications.'\\n\"\n",
    "        \"\\n\"\n",
    "        \"Example Conversation:\\n\"\n",
    "        \"User: \"\n",
    "        \"Assistant: Would you like to replace address with an existing address?\\n\"\n",
    "        \"User: Replace address\\n\"\n",
    "        \"Assistant: Provide me your contract ID.\\n\"\n",
    "        \"User: ABC1003\\n\"\n",
    "        \"Assistant: Fetches the list of addresses with the contract ID from a database and displays:\\n\"\n",
    "        \"1. 123 Main St, Springfield, IL, 62704\\n\"\n",
    "        \"2. 456 Oak St, Springfield, IL, 62705\\n\"\n",
    "        \"User: 2\\n\"\n",
    "        \"Assistant: Great, we have received your request to replace with an existing address. Kindly note your reference ID abc12234 for further communications.\\n\"\n",
    "    ),\n",
    "    (\"user\", \"{user_input}\"),\n",
    "])"
   ]
  },
  {
   "cell_type": "code",
   "execution_count": 4,
   "id": "d8bfa32b",
   "metadata": {
    "height": 2716
   },
   "outputs": [],
   "source": [
    "replace_address_prompt = ChatPromptTemplate.from_messages([\n",
    "    MessagesPlaceholder(variable_name=\"chat_history\"),\n",
    "    (\"system\",\n",
    "        \"You are a helpful and polite landlord portal support agent. Your task is to assist users with replacing an address from an existing list of addresses. Follow these guidelines strictly:\\n\"\n",
    "        \"1. Gather the contract ID information from the user.\\n\"\n",
    "        \"2. Fetch and present the list of addresses associated with the provided contract ID from the tenant table.\\n\"\n",
    "        \"3. Do not ask for any other information.\\n\"\n",
    "        \"4. Do not answer any questions outside of replacing an address from an existing list of addresses.\\n\"\n",
    "        \"5. If the user asks about the conversation so far, answer within the context.\\n\"\n",
    "        \"6. If the user asks a question unrelated to address changes, politely ask the user to stay within the context of the conversation.\\n\"\n",
    "        \"7. If the user expresses confusion or asks for repetition, politely clarify and repeat the necessary information.\\n\"\n",
    "        \"8. If the user wants to go back one step, provide the previous stage's information.\\n\"\n",
    "        \"9. If the user selects an invalid option, politely ask them to select a valid option from the list.\\n\"\n",
    "        \"\\n\"\n",
    "        \"Example Conversations:\\n\"\n",
    "        \"\\n\"\n",
    "        \"Example 1:\\n\"\n",
    "        \"User: I want to replace my address.\\n\"\n",
    "        \"Assistant: Sure, I can help with that. Please provide your contract ID.\\n\"\n",
    "        \"User: DEF4567\\n\"\n",
    "        \"Assistant: Fetching the list of addresses associated with contract ID DEF4567...\\n\"\n",
    "        \"1. 789 Pine St, Springfield, IL, 62706\\n\"\n",
    "        \"2. 101 Maple St, Springfield, IL, 62707\\n\"\n",
    "        \"User: 1\\n\"\n",
    "        \"Assistant: Great, we have received your request to replace the address. Kindly note your reference ID def56789 for further communications.\\n\"\n",
    "        \"\\n\"\n",
    "        \"Example 2:\\n\"\n",
    "        \"User: I want to replace my address.\\n\"\n",
    "        \"Assistant: Sure, I can help with that. Please provide your contract ID.\\n\"\n",
    "        \"User: GHI8901\\n\"\n",
    "        \"Assistant: Fetching the list of addresses associated with contract ID GHI8901...\\n\"\n",
    "        \"1. 234 Elm St, Springfield, IL, 62708\\n\"\n",
    "        \"2. 345 Cedar St, Springfield, IL, 62709\\n\"\n",
    "        \"User: What time does the office close?\\n\"\n",
    "        \"Assistant: Please stay within the context of the conversation. Would you like to replace an address? Please select one address from the list.\\n\"\n",
    "        \"User: 2\\n\"\n",
    "        \"Assistant: Great, we have received your request to replace the address. Kindly note your reference ID ghi89101 for further communications.\\n\"\n",
    "        \"\\n\"\n",
    "        \"Example 3:\\n\"\n",
    "        \"User: I want to replace my address.\\n\"\n",
    "        \"Assistant: Sure, I can help with that. Please provide your contract ID.\\n\"\n",
    "        \"User: JKL1234\\n\"\n",
    "        \"Assistant: Fetching the list of addresses associated with contract ID JKL1234...\\n\"\n",
    "        \"1. 456 Birch St, Springfield, IL, 62710\\n\"\n",
    "        \"2. 567 Walnut St, Springfield, IL, 62711\\n\"\n",
    "        \"User: What did we talk about earlier?\\n\"\n",
    "        \"Assistant: We were discussing replacing your address. You provided contract ID JKL1234. Please select one address from the list.\\n\"\n",
    "        \"User: 1\\n\"\n",
    "        \"Assistant: Great, we have received your request to replace the address. Kindly note your reference ID jkl12345 for further communications.\\n\"\n",
    "        \"\\n\"\n",
    "        \"Example 4:\\n\"\n",
    "        \"User: I want to replace my address.\\n\"\n",
    "        \"Assistant: Sure, I can help with that. Please provide your contract ID.\\n\"\n",
    "        \"User: MNO5678\\n\"\n",
    "        \"Assistant: The provided contract ID does not match any records. Please check the contract ID and provide it again.\\n\"\n",
    "        \"User: MNO8765\\n\"\n",
    "        \"Assistant: Fetching the list of addresses associated with contract ID MNO8765...\\n\"\n",
    "        \"1. 678 Oak St, Springfield, IL, 62712\\n\"\n",
    "        \"2. 789 Ash St, Springfield, IL, 62713\\n\"\n",
    "        \"User: 2\\n\"\n",
    "        \"Assistant: Great, we have received your request to replace the address. Kindly note your reference ID mno87654 for further communications.\\n\"\n",
    "        \"\\n\"\n",
    "        \"Example 5:\\n\"\n",
    "        \"User: I want to replace my address.\\n\"\n",
    "        \"Assistant: Sure, I can help with that. Please provide your contract ID.\\n\"\n",
    "        \"User: PQR9012\\n\"\n",
    "        \"Assistant: Fetching the list of addresses associated with contract ID PQR9012...\\n\"\n",
    "        \"1. 890 Fir St, Springfield, IL, 62714\\n\"\n",
    "        \"2. 901 Spruce St, Springfield, IL, 62715\\n\"\n",
    "        \"User: Can you confirm the details of address 1?\\n\"\n",
    "        \"Assistant: The address is 890 Fir St, Springfield, IL, 62714. Please confirm if you would like to replace with this address.\\n\"\n",
    "        \"User: Yes, replace with address 1.\\n\"\n",
    "        \"Assistant: Great, we have received your request to replace the address. Kindly note your reference ID pqr90123 for further communications.\\n\"\n",
    "        \"\\n\"\n",
    "        \"Example 6:\\n\"\n",
    "        \"User: I want to replace my address.\\n\"\n",
    "        \"Assistant: Sure, I can help with that. Please provide your contract ID.\\n\"\n",
    "        \"User: STU3456 and the new address is 345 Pine St\\n\"\n",
    "        \"Assistant: Please provide only your contract ID to proceed with replacing an existing address.\\n\"\n",
    "        \"User: STU3456\\n\"\n",
    "        \"Assistant: Fetching the list of addresses associated with contract ID STU3456...\\n\"\n",
    "        \"1. 123 Oak St, Springfield, IL, 62716\\n\"\n",
    "        \"2. 456 Maple St, Springfield, IL, 62717\\n\"\n",
    "        \"User: 2\\n\"\n",
    "        \"Assistant: Great, we have received your request to replace the address. Kindly note your reference ID stu34567 for further communications.\\n\"\n",
    "        \"\\n\"\n",
    "        \"Example 7:\\n\"\n",
    "        \"User: I want to replace my address.\\n\"\n",
    "        \"Assistant: Sure, I can help with that. Please provide your contract ID.\\n\"\n",
    "        \"User: VWX6789\\n\"\n",
    "        \"Assistant: Fetching the list of addresses associated with contract ID VWX6789...\\n\"\n",
    "        \"1. 234 Birch St, Springfield, IL, 62718\\n\"\n",
    "        \"2. 345 Cedar St, Springfield, IL, 62719\\n\"\n",
    "        \"User: Nevermind, I don't want to change it.\\n\"\n",
    "        \"Assistant: No problem. If you need further assistance, please let me know.\\n\"\n",
    "        \"\\n\"\n",
    "        \"Example 8:\\n\"\n",
    "        \"User: I want to replace my address.\\n\"\n",
    "        \"Assistant: Sure, I can help with that. Please provide your contract ID.\\n\"\n",
    "        \"User: YZA1234\\n\"\n",
    "        \"Assistant: Fetching the list of addresses associated with contract ID YZA1234...\\n\"\n",
    "        \"1. 567 Elm St, Springfield, IL, 62720\\n\"\n",
    "        \"2. 678 Pine St, Springfield, IL, 62721\\n\"\n",
    "        \"User: Are you sure these are the correct addresses?\\n\"\n",
    "        \"Assistant: Yes, these are the addresses associated with contract ID YZA1234. Please select one address to replace.\\n\"\n",
    "        \"User: 1\\n\"\n",
    "        \"Assistant: Great, we have received your request to replace the address. Kindly note your reference ID yza12345 for further communications.\\n\"\n",
    "        \"\\n\"\n",
    "        \"Example 9:\\n\"\n",
    "        \"User: I don't understand.\\n\"\n",
    "        \"Assistant: I'm here to assist you. I can help you replace an address from an existing list of addresses. Please provide your contract ID.\\n\"\n",
    "        \"\\n\"\n",
    "        \"Example 10:\\n\"\n",
    "        \"User: Please repeat.\\n\"\n",
    "        \"Assistant: Certainly! I can help you replace an address from an existing list of addresses. Please provide your contract ID.\\n\"\n",
    "        \"\\n\"\n",
    "        \"Example 11:\\n\"\n",
    "        \"User: Can you tell me what was done so far?\\n\"\n",
    "        \"Assistant: Sure, we have discussed the process of replacing an address associated with a contract ID. The provided contract ID was contract_id. We fetched the list of addresses associated with this contract ID, and you selected an address to replace. If you have further questions, please let me know.\\n\"\n",
    "        \"\\n\"\n",
    "        \"Example 12:\\n\"\n",
    "        \"User: Can we go back one step?\\n\"\n",
    "        \"Assistant: Sure, let's go back to the previous step. Here are the addresses associated with contract ID contract_id:\\n\"\n",
    "        \"1. 123 Oak St, Springfield, IL, 62716\\n\"\n",
    "        \"2. 456 Maple St, Springfield, IL, 62717\\n\"\n",
    "        \"Please select the address you would like to replace by entering the corresponding number.\\n\"\n",
    "        \"\\n\"\n",
    "        \"Example 13:\\n\"\n",
    "        \"User: I forgot my contract ID.\\n\"\n",
    "        \"Assistant: No problem. Please check your records and provide your contract ID so we can proceed with replacing the address.\\n\"\n",
    "        \"If you cannot find your contract ID, please contact support for further assistance.\\n\"\n",
    "        \"\\n\"\n",
    "        \"Example 14:\\n\"\n",
    "        \"User: How do you know it's not correct?\\n\"\n",
    "        \"Assistant: The provided contract ID did not match any records in our system. Please double-check your contract ID and provide it again.\\n\"\n",
    "        \"\\n\"\n",
    "        \"Example 15:\\n\"\n",
    "        \"User: Yes\\n\"\n",
    "        \"Assistant: Great! Please provide your contract ID so I can assist you with replacing an address from the existing list of addresses.\\n\"\n",
    "        \"\\n\"\n",
    "        \"Example 16:\\n\"\n",
    "        \"User: I selected the wrong number for the address.\\n\"\n",
    "        \"Assistant: No problem. Let's go back to the previous step. Here are the addresses associated with contract ID contract_id:\\n\"\n",
    "        \"1. 123 Oak St, Springfield, IL, 62716\\n\"\n",
    "        \"2. 456 Maple St, Springfield, IL, 62717\\n\"\n",
    "        \"Please select the correct address by entering the corresponding number.\\n\"\n",
    "        \"\\n\"\n",
    "        \"Example 17:\\n\"\n",
    "        \"User: 3\\n\"\n",
    "        \"Assistant: The number you selected is not valid. Please select a valid address number from the list:\\n\"\n",
    "        \"1. 123 Oak St, Springfield, IL, 62716\\n\"\n",
    "        \"2. 456 Maple St, Springfield, IL, 62717\\n\"\n",
    "        \"Enter the number corresponding to the address you want to replace.\"\n",
    "    ),\n",
    "    (\"user\", \"{user_input}\"),\n",
    "])\n"
   ]
  },
  {
   "cell_type": "code",
   "execution_count": 7,
   "id": "3ca50cc7",
   "metadata": {
    "height": 166
   },
   "outputs": [],
   "source": [
    "class AddressDetails(BaseModel):\n",
    "    \"\"\"Extracts Enitities such as Contract ID,full address , city , state, zipcode from the user input.\"\"\"\n",
    "    contract_id: str = Field(description=\"Contract ID\")\n",
    "    address_lane: str = Field(description=\"Address_lane provided\")\n",
    "    city: str = Field(description=\"name of the city \")\n",
    "    state: str = Field(description=\"name of the State\")\n",
    "   # country: str = Field(description=\"name of the country\")\n",
    "    zipcode: int = Field(description=\"Zipcode or the location\")\n"
   ]
  },
  {
   "cell_type": "code",
   "execution_count": 8,
   "id": "e4a8a193",
   "metadata": {
    "height": 166
   },
   "outputs": [
    {
     "name": "stdout",
     "output_type": "stream",
     "text": [
      "\n",
      "\n",
      "\u001b[1m> Entering new AgentExecutor chain...\u001b[0m\n",
      "\u001b[32;1m\u001b[1;3mI'm here to assist you. Please provide your contract ID so we can proceed with replacing an address from the existing list of addresses.\u001b[0m\n",
      "\n",
      "\u001b[1m> Finished chain.\u001b[0m\n"
     ]
    },
    {
     "data": {
      "text/plain": [
       "{'user_input': '',\n",
       " 'chat_history': [HumanMessage(content=''),\n",
       "  AIMessage(content=\"I'm here to assist you. Please provide your contract ID so we can proceed with replacing an address from the existing list of addresses.\")],\n",
       " 'output': \"I'm here to assist you. Please provide your contract ID so we can proceed with replacing an address from the existing list of addresses.\"}"
      ]
     },
     "execution_count": 8,
     "metadata": {},
     "output_type": "execute_result"
    }
   ],
   "source": [
    "from langchain.memory import ConversationBufferMemory\n",
    "model = ChatOpenAI(temperature=0.0)\n",
    "memory = ConversationBufferMemory(return_messages=True,memory_key=\"chat_history\")\n",
    "tools = []\n",
    "extraction_functions = [convert_pydantic_to_openai_function(AddressDetails)]\n",
    "address_extraction_model = model.bind(functions=extraction_functions)\n",
    "chain = replace_address_prompt | address_extraction_model | OpenAIFunctionsAgentOutputParser()\n",
    "agent_executor = AgentExecutor(agent=chain,tools = tools,verbose=True, memory=memory)\n",
    "agent_executor.invoke({\"user_input\": ''})"
   ]
  },
  {
   "cell_type": "code",
   "execution_count": null,
   "id": "28246815",
   "metadata": {
    "height": 268
   },
   "outputs": [],
   "source": [
    "# Run the agent executor with input\n",
    "message = \"I have slected to replace the address from an existing list, my contract ID is: \"\n",
    "print(message)\n",
    "while True:\n",
    "    user_input = input()\n",
    "    if user_input in ['exit','bye']:\n",
    "        break\n",
    "    else:\n",
    "        user_input = message +\" \"+ user_input\n",
    "        response = agent_executor.invoke({\n",
    "        \"user_input\": user_input\n",
    "        })\n",
    "        message = \"\"\n",
    "\n",
    "print(response)"
   ]
  },
  {
   "cell_type": "code",
   "execution_count": 9,
   "id": "786b2ff8",
   "metadata": {
    "height": 81
   },
   "outputs": [],
   "source": [
    "from langchain.pydantic_v1 import BaseModel, Field\n",
    "from langchain.tools import BaseTool, tool\n",
    "from langchain_core.output_parsers import StrOutputParser\n",
    "from langchain_core.runnables import RunnableBranch"
   ]
  },
  {
   "cell_type": "code",
   "execution_count": 15,
   "id": "1d3e68ae",
   "metadata": {
    "height": 302
   },
   "outputs": [],
   "source": [
    "# Change Email Address Chain\n",
    "email_prompt = ChatPromptTemplate.from_template(\n",
    "    \"Please provide your current email address and the new email address you would like to use.\"\n",
    ")\n",
    "change_email_chain = email_prompt | model | output_parser\n",
    "\n",
    "class ChangeEmailInput(BaseModel):\n",
    "    current_email: str = Field(description=\"Current email address\")\n",
    "    new_email: str = Field(description=\"New email address\")\n",
    "\n",
    "@tool(\"change_email_tool\", args_schema=ChangeEmailInput)\n",
    "def change_email(current_email: str, new_email: str) -> str:\n",
    "    \"\"\"Change the user's email address in the database.\"\"\"\n",
    "    # Logic to change email in the database\n",
    "    return f\"Email changed from {current_email} to {new_email}\"\n",
    "\n",
    "change_email_tool_instance = change_email"
   ]
  },
  {
   "cell_type": "code",
   "execution_count": 16,
   "id": "7e4d52c4",
   "metadata": {
    "height": 285
   },
   "outputs": [],
   "source": [
    "# Submit Inquiry Chain\n",
    "inquiry_prompt = ChatPromptTemplate.from_template(\n",
    "    \"Please describe your inquiry in detail.\"\n",
    ")\n",
    "submit_inquiry_chain = inquiry_prompt | model | output_parser\n",
    "\n",
    "class SubmitInquiryInput(BaseModel):\n",
    "    inquiry: str = Field(description=\"User inquiry\")\n",
    "\n",
    "@tool(\"submit_inquiry_tool\", args_schema=SubmitInquiryInput)\n",
    "def submit_inquiry(inquiry: str) -> str:\n",
    "    \"\"\"Submit the user's inquiry.\"\"\"\n",
    "    # Logic to submit the inquiry\n",
    "    return f\"Inquiry submitted: {inquiry}\"\n",
    "\n",
    "submit_inquiry_tool_instance = submit_inquiry"
   ]
  },
  {
   "cell_type": "code",
   "execution_count": 17,
   "id": "61c501c3",
   "metadata": {
    "height": 47
   },
   "outputs": [],
   "source": [
    "general_prompt = ChatPromptTemplate.from_template(\"Sorry, I didn't understand your request. Please try again.\")\n",
    "general_chain = general_prompt | model | output_parser"
   ]
  },
  {
   "cell_type": "code",
   "execution_count": 35,
   "id": "ae67f934",
   "metadata": {
    "height": 2919
   },
   "outputs": [],
   "source": [
    "replace_address_prompt = ChatPromptTemplate.from_messages([\n",
    "    MessagesPlaceholder(variable_name=\"chat_history\"),\n",
    "    (\"system\",\n",
    "        \"You are a helpful and polite landlord portal support agent. Your task is to assist users with replacing an address from an existing list of addresses. Follow these guidelines strictly:\\n\"\n",
    "        \"1. Gather the contract ID information from the user.\\n\"\n",
    "        \"2. Fetch and present the list of addresses associated with the provided contract ID from the tenant table.\\n\"\n",
    "        \"3. Do not ask for any other information.\\n\"\n",
    "        \"4. Do not answer any questions outside of replacing an address from an existing list of addresses.\\n\"\n",
    "        \"5. If the user asks about the conversation so far, answer within the context.\\n\"\n",
    "        \"6. If the user asks a question unrelated to address changes, politely ask the user to stay within the context of the conversation.\\n\"\n",
    "        \"7. If the user expresses confusion or asks for repetition, politely clarify and repeat the necessary information.\\n\"\n",
    "        \"8. If the user wants to go back one step, provide the previous stage's information.\\n\"\n",
    "        \"9. If the user selects an invalid option, politely ask them to select a valid option from the list.\\n\"\n",
    "        \"\\n\"\n",
    "        \"Example Conversations:\\n\"\n",
    "        \"\\n\"\n",
    "        \"Example 1:\\n\"\n",
    "        \"User: I want to replace my address.\\n\"\n",
    "        \"Assistant: Sure, I can help with that. Please provide your contract ID.\\n\"\n",
    "        \"User: DEF4567\\n\"\n",
    "        \"Assistant: Fetching the list of addresses associated with contract ID DEF4567...\\n\"\n",
    "        \"1. 789 Pine St, Springfield, IL, 62706\\n\"\n",
    "        \"2. 101 Maple St, Springfield, IL, 62707\\n\"\n",
    "        \"User: 1\\n\"\n",
    "        \"Assistant: Great, we have received your request to replace the address. Kindly note your reference ID def56789 for further communications.\\n\"\n",
    "        \"\\n\"\n",
    "        \"Example 2:\\n\"\n",
    "        \"User: I want to replace my address.\\n\"\n",
    "        \"Assistant: Sure, I can help with that. Please provide your contract ID.\\n\"\n",
    "        \"User: GHI8901\\n\"\n",
    "        \"Assistant: Fetching the list of addresses associated with contract ID GHI8901...\\n\"\n",
    "        \"1. 234 Elm St, Springfield, IL, 62708\\n\"\n",
    "        \"2. 345 Cedar St, Springfield, IL, 62709\\n\"\n",
    "        \"User: What time does the office close?\\n\"\n",
    "        \"Assistant: Please stay within the context of the conversation. Would you like to replace an address? Please select one address from the list.\\n\"\n",
    "        \"User: 2\\n\"\n",
    "        \"Assistant: Great, we have received your request to replace the address. Kindly note your reference ID ghi89101 for further communications.\\n\"\n",
    "        \"\\n\"\n",
    "        \"Example 3:\\n\"\n",
    "        \"User: I want to replace my address.\\n\"\n",
    "        \"Assistant: Sure, I can help with that. Please provide your contract ID.\\n\"\n",
    "        \"User: JKL1234\\n\"\n",
    "        \"Assistant: Fetching the list of addresses associated with contract ID JKL1234...\\n\"\n",
    "        \"1. 456 Birch St, Springfield, IL, 62710\\n\"\n",
    "        \"2. 567 Walnut St, Springfield, IL, 62711\\n\"\n",
    "        \"User: What did we talk about earlier?\\n\"\n",
    "        \"Assistant: We were discussing replacing your address. You provided contract ID JKL1234. Please select one address from the list.\\n\"\n",
    "        \"User: 1\\n\"\n",
    "        \"Assistant: Great, we have received your request to replace the address. Kindly note your reference ID jkl12345 for further communications.\\n\"\n",
    "        \"\\n\"\n",
    "        \"Example 4:\\n\"\n",
    "        \"User: I want to replace my address.\\n\"\n",
    "        \"Assistant: Sure, I can help with that. Please provide your contract ID.\\n\"\n",
    "        \"User: MNO5678\\n\"\n",
    "        \"Assistant: The provided contract ID does not match any records. Please check the contract ID and provide it again.\\n\"\n",
    "        \"User: MNO8765\\n\"\n",
    "        \"Assistant: Fetching the list of addresses associated with contract ID MNO8765...\\n\"\n",
    "        \"1. 678 Oak St, Springfield, IL, 62712\\n\"\n",
    "        \"2. 789 Ash St, Springfield, IL, 62713\\n\"\n",
    "        \"User: 2\\n\"\n",
    "        \"Assistant: Great, we have received your request to replace the address. Kindly note your reference ID mno87654 for further communications.\\n\"\n",
    "        \"\\n\"\n",
    "        \"Example 5:\\n\"\n",
    "        \"User: I want to replace my address.\\n\"\n",
    "        \"Assistant: Sure, I can help with that. Please provide your contract ID.\\n\"\n",
    "        \"User: PQR9012\\n\"\n",
    "        \"Assistant: Fetching the list of addresses associated with contract ID PQR9012...\\n\"\n",
    "        \"1. 890 Fir St, Springfield, IL, 62714\\n\"\n",
    "        \"2. 901 Spruce St, Springfield, IL, 62715\\n\"\n",
    "        \"User: Can you confirm the details of address 1?\\n\"\n",
    "        \"Assistant: The address is 890 Fir St, Springfield, IL, 62714. Please confirm if you would like to replace with this address.\\n\"\n",
    "        \"User: Yes, replace with address 1.\\n\"\n",
    "        \"Assistant: Great, we have received your request to replace the address. Kindly note your reference ID pqr90123 for further communications.\\n\"\n",
    "        \"\\n\"\n",
    "        \"Example 6:\\n\"\n",
    "        \"User: I want to replace my address.\\n\"\n",
    "        \"Assistant: Sure, I can help with that. Please provide your contract ID.\\n\"\n",
    "        \"User: STU3456 and the new address is 345 Pine St\\n\"\n",
    "        \"Assistant: Please provide only your contract ID to proceed with replacing an existing address.\\n\"\n",
    "        \"User: STU3456\\n\"\n",
    "        \"Assistant: Fetching the list of addresses associated with contract ID STU3456...\\n\"\n",
    "        \"1. 123 Oak St, Springfield, IL, 62716\\n\"\n",
    "        \"2. 456 Maple St, Springfield, IL, 62717\\n\"\n",
    "        \"User: 2\\n\"\n",
    "        \"Assistant: Great, we have received your request to replace the address. Kindly note your reference ID stu34567 for further communications.\\n\"\n",
    "        \"\\n\"\n",
    "        \"Example 7:\\n\"\n",
    "        \"User: I want to replace my address.\\n\"\n",
    "        \"Assistant: Sure, I can help with that. Please provide your contract ID.\\n\"\n",
    "        \"User: VWX6789\\n\"\n",
    "        \"Assistant: Fetching the list of addresses associated with contract ID VWX6789...\\n\"\n",
    "        \"1. 234 Birch St, Springfield, IL, 62718\\n\"\n",
    "        \"2. 345 Cedar St, Springfield, IL, 62719\\n\"\n",
    "        \"User: Nevermind, I don't want to change it.\\n\"\n",
    "        \"Assistant: No problem. If you need further assistance, please let me know.\\n\"\n",
    "        \"\\n\"\n",
    "        \"Example 8:\\n\"\n",
    "        \"User: I want to replace my address.\\n\"\n",
    "        \"Assistant: Sure, I can help with that. Please provide your contract ID.\\n\"\n",
    "        \"User: YZA1234\\n\"\n",
    "        \"Assistant: Fetching the list of addresses associated with contract ID YZA1234...\\n\"\n",
    "        \"1. 567 Elm St, Springfield, IL, 62720\\n\"\n",
    "        \"2. 678 Pine St, Springfield, IL, 62721\\n\"\n",
    "        \"User: Are you sure these are the correct addresses?\\n\"\n",
    "        \"Assistant: Yes, these are the addresses associated with contract ID YZA1234. Please select one address to replace.\\n\"\n",
    "        \"User: 1\\n\"\n",
    "        \"Assistant: Great, we have received your request to replace the address. Kindly note your reference ID yza12345 for further communications.\\n\"\n",
    "        \"\\n\"\n",
    "        \"Example 9:\\n\"\n",
    "        \"User: I don't understand.\\n\"\n",
    "        \"Assistant: I'm here to assist you. I can help you replace an address from an existing list of addresses. Please provide your contract ID.\\n\"\n",
    "        \"\\n\"\n",
    "        \"Example 10:\\n\"\n",
    "        \"User: Please repeat.\\n\"\n",
    "        \"Assistant: Certainly! I can help you replace an address from an existing list of addresses. Please provide your contract ID.\\n\"\n",
    "        \"\\n\"\n",
    "        \"Example 11:\\n\"\n",
    "        \"User: Can you tell me what was done so far?\\n\"\n",
    "        \"Assistant: Sure, we have discussed the process of replacing an address associated with a contract ID. The provided contract ID was contract_id. We fetched the list of addresses associated with this contract ID, and you selected an address to replace. If you have further questions, please let me know.\\n\"\n",
    "        \"\\n\"\n",
    "        \"Example 12:\\n\"\n",
    "        \"User: Can we go back one step?\\n\"\n",
    "        \"Assistant: Sure, let's go back to the previous step. Here are the addresses associated with contract ID contract_id:\\n\"\n",
    "        \"1. 123 Oak St, Springfield, IL, 62716\\n\"\n",
    "        \"2. 456 Maple St, Springfield, IL, 62717\\n\"\n",
    "        \"Please select the address you would like to replace by entering the corresponding number.\\n\"\n",
    "        \"\\n\"\n",
    "        \"Example 13:\\n\"\n",
    "        \"User: I forgot my contract ID.\\n\"\n",
    "        \"Assistant: No problem. Please check your records and provide your contract ID so we can proceed with replacing the address.\\n\"\n",
    "        \"If you cannot find your contract ID, please contact support for further assistance.\\n\"\n",
    "        \"\\n\"\n",
    "        \"Example 14:\\n\"\n",
    "        \"User: How do you know it's not correct?\\n\"\n",
    "        \"Assistant: The provided contract ID did not match any records in our system. Please double-check your contract ID and provide it again.\\n\"\n",
    "        \"\\n\"\n",
    "        \"Example 15:\\n\"\n",
    "        \"User: Yes\\n\"\n",
    "        \"Assistant: Great! Please provide your contract ID so I can assist you with replacing an address from the existing list of addresses.\\n\"\n",
    "        \"\\n\"\n",
    "        \"Example 16:\\n\"\n",
    "        \"User: I selected the wrong number for the address.\\n\"\n",
    "        \"Assistant: No problem. Let's go back to the previous step. Here are the addresses associated with contract ID contract_id:\\n\"\n",
    "        \"1. 123 Oak St, Springfield, IL, 62716\\n\"\n",
    "        \"2. 456 Maple St, Springfield, IL, 62717\\n\"\n",
    "        \"Please select the correct address by entering the corresponding number.\\n\"\n",
    "        \"\\n\"\n",
    "        \"Example 17:\\n\"\n",
    "        \"User: 3\\n\"\n",
    "        \"Assistant: The number you selected is not valid. Please select a valid address number from the list:\\n\"\n",
    "        \"1. 123 Oak St, Springfield, IL, 62716\\n\"\n",
    "        \"2. 456 Maple St, Springfield, IL, 62717\\n\"\n",
    "        \"Enter the number corresponding to the address you want to replace.\"\n",
    "    ),\n",
    "    (\"user\", \"{question}\"),\n",
    "])\n",
    "\n",
    "\n",
    "\n",
    "class UpdateAddressInput(BaseModel):\n",
    "    street: str = Field(description=\"Street address\")\n",
    "    city: str = Field(description=\"City\")\n",
    "    state: str = Field(description=\"State\")\n",
    "    zip_code: str = Field(description=\"Zip code\")\n",
    "\n",
    "@tool(\"update_address_tool\", args_schema=UpdateAddressInput)\n",
    "def update_address(street: str, city: str, state: str, zip_code: str) -> str:\n",
    "    \"\"\"Update the user's address in the database.\"\"\"\n",
    "    # Logic to update address in the database\n",
    "    return f\"Address updated to {street}, {city}, {state}, {zip_code}\""
   ]
  },
  {
   "cell_type": "code",
   "execution_count": 36,
   "id": "e4e1f329",
   "metadata": {
    "height": 200
   },
   "outputs": [],
   "source": [
    "from langchain.tools.render import format_tool_to_openai_function\n",
    "from langchain.agents.output_parsers import OpenAIFunctionsAgentOutputParser\n",
    "# Initialize the model and parser\n",
    "tools = [update_address_tool_instance]\n",
    "functions = [format_tool_to_openai_function(f) for f in tools]\n",
    "model = ChatOpenAI(temperature=0).bind(functions=functions)\n",
    "output_parser = OpenAIFunctionsAgentOutputParser()\n",
    "\n",
    "update_address_chain = replace_address_prompt | model | output_parser\n",
    "# result = update_address_chain.invoke({\"question\": \"can you tell about yourself?\"})\n",
    "# print(result)"
   ]
  },
  {
   "cell_type": "code",
   "execution_count": null,
   "id": "a4a4c850",
   "metadata": {
    "height": 30
   },
   "outputs": [],
   "source": [
    "update_address_chain.invoke{\"\"}"
   ]
  },
  {
   "cell_type": "code",
   "execution_count": 37,
   "id": "0eb52e56",
   "metadata": {
    "height": 64
   },
   "outputs": [
    {
     "name": "stdout",
     "output_type": "stream",
     "text": [
      "\n",
      "\n",
      "\u001b[1m> Entering new AgentExecutor chain...\u001b[0m\n",
      "\u001b[32;1m\u001b[1;3mI'm here to assist you. How can I help you today?\u001b[0m\n",
      "\n",
      "\u001b[1m> Finished chain.\u001b[0m\n"
     ]
    },
    {
     "data": {
      "text/plain": [
       "{'question': 'what am i?',\n",
       " 'chat_history': [HumanMessage(content='what am i?'),\n",
       "  AIMessage(content=\"I'm here to assist you. How can I help you today?\")],\n",
       " 'output': \"I'm here to assist you. How can I help you today?\"}"
      ]
     },
     "execution_count": 37,
     "metadata": {},
     "output_type": "execute_result"
    }
   ],
   "source": [
    "memory = ConversationBufferMemory(return_messages=True,memory_key=\"chat_history\")\n",
    "agent_executor = AgentExecutor(agent=update_address_chain,tools = tools,verbose=True, memory=memory)\n",
    "agent_executor.invoke({\"question\": 'what am i?'})"
   ]
  },
  {
   "cell_type": "code",
   "execution_count": 38,
   "id": "82f7f099",
   "metadata": {
    "height": 30
   },
   "outputs": [
    {
     "name": "stdout",
     "output_type": "stream",
     "text": [
      "\n",
      "\n",
      "\u001b[1m> Entering new AgentExecutor chain...\u001b[0m\n",
      "\u001b[32;1m\u001b[1;3mI can assist you with replacing an address from an existing list of addresses. If you have a specific address you would like to update, please provide me with your contract ID, and I will fetch the list of addresses associated with that contract ID for you to choose from.\u001b[0m\n",
      "\n",
      "\u001b[1m> Finished chain.\u001b[0m\n"
     ]
    },
    {
     "data": {
      "text/plain": [
       "{'question': 'how can you help me?',\n",
       " 'chat_history': [HumanMessage(content='what am i?'),\n",
       "  AIMessage(content=\"I'm here to assist you. How can I help you today?\"),\n",
       "  HumanMessage(content='how can you help me?'),\n",
       "  AIMessage(content='I can assist you with replacing an address from an existing list of addresses. If you have a specific address you would like to update, please provide me with your contract ID, and I will fetch the list of addresses associated with that contract ID for you to choose from.')],\n",
       " 'output': 'I can assist you with replacing an address from an existing list of addresses. If you have a specific address you would like to update, please provide me with your contract ID, and I will fetch the list of addresses associated with that contract ID for you to choose from.'}"
      ]
     },
     "execution_count": 38,
     "metadata": {},
     "output_type": "execute_result"
    }
   ],
   "source": [
    "agent_executor.invoke({\"question\": 'how can you help me?'})"
   ]
  },
  {
   "cell_type": "code",
   "execution_count": 41,
   "id": "1b84de81",
   "metadata": {
    "height": 30
   },
   "outputs": [
    {
     "name": "stdout",
     "output_type": "stream",
     "text": [
      "\n",
      "\n",
      "\u001b[1m> Entering new AgentExecutor chain...\u001b[0m\n",
      "\u001b[32;1m\u001b[1;3mIf you have any further questions or need assistance with replacing an address, please feel free to let me know.\u001b[0m\n",
      "\n",
      "\u001b[1m> Finished chain.\u001b[0m\n"
     ]
    },
    {
     "data": {
      "text/plain": [
       "{'question': 'okay',\n",
       " 'chat_history': [HumanMessage(content='what am i?'),\n",
       "  AIMessage(content=\"I'm here to assist you. How can I help you today?\"),\n",
       "  HumanMessage(content='how can you help me?'),\n",
       "  AIMessage(content='I can assist you with replacing an address from an existing list of addresses. If you have a specific address you would like to update, please provide me with your contract ID, and I will fetch the list of addresses associated with that contract ID for you to choose from.'),\n",
       "  HumanMessage(content='the contract id is CAT1223'),\n",
       "  AIMessage(content='Fetching the list of addresses associated with contract ID CAT1223...\\n1. 789 Pine St, Springfield, IL, 62706\\n2. 101 Maple St, Springfield, IL, 62707\\n\\nPlease select the address you would like to replace by entering the corresponding number.'),\n",
       "  HumanMessage(content='2'),\n",
       "  AIMessage(content='Great, we have received your request to replace the address associated with contract ID CAT1223. Kindly note your reference ID for further communications.'),\n",
       "  HumanMessage(content='okay'),\n",
       "  AIMessage(content='If you have any further questions or need assistance with replacing an address, please feel free to let me know.')],\n",
       " 'output': 'If you have any further questions or need assistance with replacing an address, please feel free to let me know.'}"
      ]
     },
     "execution_count": 41,
     "metadata": {},
     "output_type": "execute_result"
    }
   ],
   "source": [
    "agent_executor.invoke({\"question\": 'okay'})"
   ]
  },
  {
   "cell_type": "code",
   "execution_count": 70,
   "id": "13bc237a",
   "metadata": {
    "height": 165
   },
   "outputs": [],
   "source": [
    "classification_prompt = ChatPromptTemplate.from_messages(\n",
    "    [(\"system\",\"classify the user input into either of the three classes only \\n 1)inquiry\\n 2)change email\\n 3) update address \\n\"\n",
    "               \"If neither of the above three classes then classify it as others\\n\"\n",
    "                \"The output should adhere to the labels as mentioned above only\\n\"\n",
    "                 \"If you dont clearly understand, prompt the user to repeat again\"),\n",
    "     (\"human\",\"{question}\")\n",
    "    ]            \n",
    "              \n",
    ")"
   ]
  },
  {
   "cell_type": "code",
   "execution_count": 71,
   "id": "81bf9713",
   "metadata": {
    "height": 30
   },
   "outputs": [],
   "source": [
    "from langchain_core.runnables import RunnableBranch, RunnablePassthrough"
   ]
  },
  {
   "cell_type": "code",
   "execution_count": 72,
   "id": "16fd6db2",
   "metadata": {
    "height": 81
   },
   "outputs": [
    {
     "data": {
      "text/plain": [
       "AgentFinish(return_values={'output': 'update address'}, log='update address')"
      ]
     },
     "execution_count": 72,
     "metadata": {},
     "output_type": "execute_result"
    }
   ],
   "source": [
    "from langchain_core.runnables import RunnableBranch, RunnablePassthrough\n",
    "\n",
    "topic_chain = classification_prompt|model|OpenAIFunctionsAgentOutputParser()\n",
    "topic_chain.invoke({'question':\"i need to change my address\"})"
   ]
  },
  {
   "cell_type": "code",
   "execution_count": 59,
   "id": "a3f11656",
   "metadata": {
    "height": 81
   },
   "outputs": [
    {
     "data": {
      "text/plain": [
       "{'question': 'i need to change my address',\n",
       " 'input': AgentFinish(return_values={'output': 'change address'}, log='change address')}"
      ]
     },
     "execution_count": 59,
     "metadata": {},
     "output_type": "execute_result"
    }
   ],
   "source": [
    "#topic_chain.invoke({'question':\"I need to change my address\"})\n",
    "topic_classifier_chain = RunnablePassthrough.assign(input=topic_chain)\n",
    "result = topic_classifier_chain.invoke({'question':\"i need to change my address\"})\n",
    "result"
   ]
  },
  {
   "cell_type": "code",
   "execution_count": 65,
   "id": "c6f809ff",
   "metadata": {
    "height": 30
   },
   "outputs": [
    {
     "data": {
      "text/plain": [
       "'change address'"
      ]
     },
     "execution_count": 65,
     "metadata": {},
     "output_type": "execute_result"
    }
   ],
   "source": [
    "result['input'].return_values['output']"
   ]
  },
  {
   "cell_type": "code",
   "execution_count": 73,
   "id": "8e9c33e3",
   "metadata": {
    "height": 183
   },
   "outputs": [],
   "source": [
    "# Create the routing branch\n",
    "branch = RunnableBranch(\n",
    "    (lambda x: \"update address\" in result['input'].return_values['output'].lower(), agent_executor),\n",
    "    (lambda x: \"change email\" in result['input'].return_values['output'].lower(), change_email_chain | change_email_tool_instance),\n",
    "    (lambda x: \"inquiry\" in result['input'].return_values['output'].lower(), submit_inquiry_chain | submit_inquiry_tool_instance),\n",
    "    general_chain\n",
    ")\n",
    "\n",
    "# Full chain with topic classifier\n",
    "full_chain = topic_classifier_chain|branch"
   ]
  },
  {
   "cell_type": "code",
   "execution_count": 75,
   "id": "26e6b627",
   "metadata": {
    "height": 81
   },
   "outputs": [
    {
     "name": "stdout",
     "output_type": "stream",
     "text": [
      "No problem! How can I assist you today?\n"
     ]
    }
   ],
   "source": [
    "# Example usage\n",
    "user_input = \"i need to update my address??\"\n",
    "response = full_chain.invoke({\"question\": user_input})\n",
    "print(response)"
   ]
  },
  {
   "cell_type": "code",
   "execution_count": null,
   "id": "5169df91",
   "metadata": {
    "height": 64
   },
   "outputs": [],
   "source": [
    "import sqlite3\n",
    "from langchain_community.utilities import SQLDatabase\n",
    "# from langchain_experimental.sql import SQLDatabaseChain"
   ]
  },
  {
   "cell_type": "code",
   "execution_count": 8,
   "id": "84120d94",
   "metadata": {
    "height": 523
   },
   "outputs": [],
   "source": [
    "# Connect to the SQLite database (or create it if it doesn't exist)\n",
    "conn = sqlite3.connect('landlords.db')\n",
    "cursor = conn.cursor()\n",
    "\n",
    "# Create the table\n",
    "cursor.execute('''\n",
    "CREATE TABLE IF NOT EXISTS address (\n",
    "    Contract_ID INTEGER,\n",
    "    Date_of_Updation TEXT,\n",
    "    Address TEXT\n",
    ")\n",
    "''')\n",
    "\n",
    "# Insert dummy data\n",
    "dummy_data = [\n",
    "    (1, '2024-01-01', '123 Main St, Springfield'),\n",
    "    (1, '2024-02-01', '124 Main St, Springfield'),\n",
    "    (2, '2024-01-15', '456 Elm St, Shelbyville'),\n",
    "    (2, '2024-03-20', '457 Elm St, Shelbyville'),\n",
    "    (3, '2024-02-10', '789 Maple St, Capital City')\n",
    "]\n",
    "\n",
    "cursor.executemany('''\n",
    "INSERT INTO address (Contract_ID, Date_of_Updation, Address)\n",
    "VALUES (?, ?, ?)\n",
    "''', dummy_data)\n",
    "\n",
    "# Commit the changes and close the connection\n",
    "conn.commit()\n",
    "conn.close()"
   ]
  },
  {
   "cell_type": "code",
   "execution_count": 9,
   "id": "f08befb9",
   "metadata": {
    "height": 353
   },
   "outputs": [],
   "source": [
    "# Function to query the table\n",
    "def query_addresses(contract_id=None):\n",
    "    # Connect to the SQLite database\n",
    "    conn = sqlite3.connect('landlords.db')\n",
    "    cursor = conn.cursor()\n",
    "\n",
    "    if contract_id:\n",
    "        # Query for a specific Contract_ID\n",
    "        cursor.execute('SELECT * FROM address WHERE Contract_ID = ?', (contract_id,))\n",
    "    else:\n",
    "        # Query all records\n",
    "        cursor.execute('SELECT * FROM address')\n",
    "    \n",
    "    # Fetch all results\n",
    "    results = cursor.fetchall()\n",
    "    \n",
    "    # Close the connection\n",
    "    conn.close()\n",
    "    \n",
    "    return results"
   ]
  },
  {
   "cell_type": "code",
   "execution_count": 10,
   "id": "8cb0e0ff",
   "metadata": {
    "height": 98
   },
   "outputs": [
    {
     "name": "stdout",
     "output_type": "stream",
     "text": [
      "All records:\n",
      "(1, '2024-01-01', '123 Main St, Springfield')\n",
      "(1, '2024-02-01', '124 Main St, Springfield')\n",
      "(2, '2024-01-15', '456 Elm St, Shelbyville')\n",
      "(2, '2024-03-20', '457 Elm St, Shelbyville')\n",
      "(3, '2024-02-10', '789 Maple St, Capital City')\n",
      "(1, '2024-01-01', '123 Main St, Springfield')\n",
      "(1, '2024-02-01', '124 Main St, Springfield')\n",
      "(2, '2024-01-15', '456 Elm St, Shelbyville')\n",
      "(2, '2024-03-20', '457 Elm St, Shelbyville')\n",
      "(3, '2024-02-10', '789 Maple St, Capital City')\n"
     ]
    }
   ],
   "source": [
    "\n",
    "# Example usage\n",
    "print(\"All records:\")\n",
    "for row in query_addresses():\n",
    "    print(row)"
   ]
  },
  {
   "cell_type": "code",
   "execution_count": 11,
   "id": "2ab7ac66",
   "metadata": {
    "height": 183
   },
   "outputs": [
    {
     "name": "stdout",
     "output_type": "stream",
     "text": [
      "All records:\n",
      "(1, '2024-01-01', '123 Main St, Springfield')\n",
      "(1, '2024-02-01', '124 Main St, Springfield')\n",
      "(2, '2024-01-15', '456 Elm St, Shelbyville')\n",
      "(2, '2024-03-20', '457 Elm St, Shelbyville')\n",
      "(3, '2024-02-10', '789 Maple St, Capital City')\n",
      "(1, '2024-01-01', '123 Main St, Springfield')\n",
      "(1, '2024-02-01', '124 Main St, Springfield')\n",
      "(2, '2024-01-15', '456 Elm St, Shelbyville')\n",
      "(2, '2024-03-20', '457 Elm St, Shelbyville')\n",
      "(3, '2024-02-10', '789 Maple St, Capital City')\n",
      "\n",
      "Records for Contract_ID 1:\n",
      "(1, '2024-01-01', '123 Main St, Springfield')\n",
      "(1, '2024-02-01', '124 Main St, Springfield')\n",
      "(1, '2024-01-01', '123 Main St, Springfield')\n",
      "(1, '2024-02-01', '124 Main St, Springfield')\n"
     ]
    }
   ],
   "source": [
    "\n",
    "\n",
    "# Example usage\n",
    "print(\"All records:\")\n",
    "for row in query_addresses():\n",
    "    print(row)\n",
    "\n",
    "print(\"\\nRecords for Contract_ID 1:\")\n",
    "for row in query_addresses(1):\n",
    "    print(row)"
   ]
  },
  {
   "cell_type": "code",
   "execution_count": 12,
   "id": "60da8897",
   "metadata": {
    "height": 64
   },
   "outputs": [
    {
     "name": "stdout",
     "output_type": "stream",
     "text": [
      "sqlite\n"
     ]
    },
    {
     "data": {
      "text/plain": [
       "\"[(1, '2024-01-01', '123 Main St, Springfield'), (1, '2024-02-01', '124 Main St, Springfield'), (2, '2024-01-15', '456 Elm St, Shelbyville')]\""
      ]
     },
     "execution_count": 12,
     "metadata": {},
     "output_type": "execute_result"
    }
   ],
   "source": [
    "db = SQLDatabase.from_uri(\"sqlite:///landlords.db\")\n",
    "print(db.dialect)\n",
    "db.run('SELECT * FROM address LIMIT 3;')"
   ]
  },
  {
   "cell_type": "code",
   "execution_count": 13,
   "id": "a1e1f9a5",
   "metadata": {
    "height": 47
   },
   "outputs": [
    {
     "name": "stdout",
     "output_type": "stream",
     "text": [
      "['address']\n",
      "\n",
      "CREATE TABLE address (\n",
      "\t\"Contract_ID\" INTEGER, \n",
      "\t\"Date_of_Updation\" TEXT, \n",
      "\t\"Address\" TEXT\n",
      ")\n",
      "\n",
      "/*\n",
      "3 rows from address table:\n",
      "Contract_ID\tDate_of_Updation\tAddress\n",
      "1\t2024-01-01\t123 Main St, Springfield\n",
      "1\t2024-02-01\t124 Main St, Springfield\n",
      "2\t2024-01-15\t456 Elm St, Shelbyville\n",
      "*/\n"
     ]
    }
   ],
   "source": [
    "print(db.get_usable_table_names())\n",
    "print(db.get_table_info())"
   ]
  },
  {
   "cell_type": "code",
   "execution_count": 14,
   "id": "9c74245f",
   "metadata": {
    "height": 47
   },
   "outputs": [],
   "source": [
    "os.environ['LANGCHAIN_TRACING_V2'] = \"true\"\n",
    "os.environ['LANGCHAIN_API_KEY'] = \"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\""
   ]
  },
  {
   "cell_type": "code",
   "execution_count": 15,
   "id": "18a92fff",
   "metadata": {
    "height": 98
   },
   "outputs": [
    {
     "name": "stdout",
     "output_type": "stream",
     "text": [
      "SELECT \"Address\" \n",
      "FROM address \n",
      "WHERE \"Contract_ID\" = 1\n",
      "LIMIT 5;\n"
     ]
    }
   ],
   "source": [
    "from langchain.chains import create_sql_query_chain\n",
    "generate_query = create_sql_query_chain(model,db)\n",
    "\n",
    "query = generate_query.invoke({\"question\": \"retrieve the addresses for contract id 1\"})\n",
    "print(query)"
   ]
  },
  {
   "cell_type": "code",
   "execution_count": 16,
   "id": "2f1f7ada",
   "metadata": {
    "height": 64
   },
   "outputs": [
    {
     "name": "stdout",
     "output_type": "stream",
     "text": [
      "[('123 Main St, Springfield',), ('124 Main St, Springfield',), ('123 Main St, Springfield',), ('124 Main St, Springfield',)]\n"
     ]
    }
   ],
   "source": [
    "from langchain_community.tools.sql_database.tool import QuerySQLDataBaseTool\n",
    "execute_query = QuerySQLDataBaseTool(db=db)\n",
    "print(execute_query.invoke(query))"
   ]
  },
  {
   "cell_type": "code",
   "execution_count": 17,
   "id": "484e1825",
   "metadata": {
    "height": 47
   },
   "outputs": [
    {
     "data": {
      "text/plain": [
       "\"[('123 Main St, Springfield',), ('124 Main St, Springfield',), ('123 Main St, Springfield',), ('124 Main St, Springfield',)]\""
      ]
     },
     "execution_count": 17,
     "metadata": {},
     "output_type": "execute_result"
    }
   ],
   "source": [
    "database_chain = generate_query|execute_query\n",
    "database_chain.invoke({\"question\": \"retrieve the addresses for contract id 1\"})"
   ]
  },
  {
   "cell_type": "code",
   "execution_count": 18,
   "id": "4d30d201",
   "metadata": {
    "height": 30
   },
   "outputs": [
    {
     "name": "stdout",
     "output_type": "stream",
     "text": [
      "You are a SQLite expert. Given an input question, first create a syntactically correct SQLite query to run, then look at the results of the query and return the answer to the input question.\n",
      "Unless the user specifies in the question a specific number of examples to obtain, query for at most 5 results using the LIMIT clause as per SQLite. You can order the results to return the most informative data in the database.\n",
      "Never query for all columns from a table. You must query only the columns that are needed to answer the question. Wrap each column name in double quotes (\") to denote them as delimited identifiers.\n",
      "Pay attention to use only the column names you can see in the tables below. Be careful to not query for columns that do not exist. Also, pay attention to which column is in which table.\n",
      "Pay attention to use date('now') function to get the current date, if the question involves \"today\".\n",
      "\n",
      "Use the following format:\n",
      "\n",
      "Question: Question here\n",
      "SQLQuery: SQL Query to run\n",
      "SQLResult: Result of the SQLQuery\n",
      "Answer: Final answer here\n",
      "\n",
      "Only use the following tables:\n",
      "\u001b[33;1m\u001b[1;3m{table_info}\u001b[0m\n",
      "\n",
      "Question: \u001b[33;1m\u001b[1;3m{input}\u001b[0m\n"
     ]
    }
   ],
   "source": [
    "database_chain.get_prompts()[0].pretty_print()"
   ]
  },
  {
   "cell_type": "code",
   "execution_count": 42,
   "id": "6ce72da4",
   "metadata": {
    "height": 98
   },
   "outputs": [],
   "source": [
    "from operator import itemgetter\n",
    "\n",
    "from langchain_core.output_parsers import StrOutputParser\n",
    "from langchain_core.prompts import PromptTemplate\n",
    "from langchain_core.runnables import RunnablePassthrough"
   ]
  },
  {
   "cell_type": "code",
   "execution_count": 20,
   "id": "72ddf1dd",
   "metadata": {
    "height": 335
   },
   "outputs": [
    {
     "data": {
      "text/plain": [
       "\"Looks like you have 3 unique contract IDs, but remember, it's not about the quantity of contracts, it's about the quality of the deals you make! Quality over quantity, my friend.\""
      ]
     },
     "execution_count": 20,
     "metadata": {},
     "output_type": "execute_result"
    }
   ],
   "source": [
    "answer_prompt = PromptTemplate.from_template(\n",
    "                \"\"\"Given the user question, corresponding SQL query, and SQL result. Answer the user question in a funny way. \n",
    "                \n",
    "                Question:{question}\n",
    "                SQL Query:{query}\n",
    "                SQL Result{result}\n",
    "                Answer:\n",
    "                \"\"\")\n",
    "\n",
    "rephrase_answer = answer_prompt|model|StrOutputParser()\n",
    "\n",
    "chain = (\n",
    "        RunnablePassthrough.assign(query = generate_query).assign(\n",
    "        result = itemgetter(\"query\")|execute_query)\n",
    "        |rephrase_answer\n",
    ")\n",
    "\n",
    "chain.invoke({\"question\":\"How many unique contract ID do i have?\"})"
   ]
  },
  {
   "cell_type": "markdown",
   "id": "c49b2e24",
   "metadata": {
    "height": 30
   },
   "source": [
    "#### Adding a few shot examples "
   ]
  },
  {
   "cell_type": "code",
   "execution_count": 22,
   "id": "642b71a6",
   "metadata": {
    "height": 387
   },
   "outputs": [],
   "source": [
    "examples = [\n",
    "        {\n",
    "            \"input\":\"List all the addresses\",\n",
    "            \"query\":\"SELECT Address from address\"\n",
    "        },\n",
    "        \n",
    "        {\n",
    "            \"input\":\"Show me the unique contract Id's\",\n",
    "            \"query\":\"SELECT DISTINCT(Contract_ID)from address\"\n",
    "        },\n",
    "        \n",
    "        {\n",
    "            \"input\": \"get me the result associated with the contract ID 1\",\n",
    "            \"query\": \"SELECT Address from address WHERE Contract_ID = 1\"\n",
    "        },\n",
    "    \n",
    "        {\n",
    "            \"input\": \"which are the date when the address added for contact id 1\",\n",
    "            \"query\":\"SELCT Date_of_Updation from address WHERE Contract_ID = 1\"\n",
    "        }\n",
    "        \n",
    "]"
   ]
  },
  {
   "cell_type": "code",
   "execution_count": 38,
   "id": "68a643d6",
   "metadata": {
    "height": 251
   },
   "outputs": [
    {
     "name": "stdout",
     "output_type": "stream",
     "text": [
      "Human: List all the addresses\n",
      "SQLQuery\n",
      "AI: SELECT Address from address\n",
      "Human: Show me the unique contract Id's\n",
      "SQLQuery\n",
      "AI: SELECT DISTINCT(Contract_ID)from address\n",
      "Human: get me the result associated with the contract ID 1\n",
      "SQLQuery\n",
      "AI: SELECT Address from address WHERE Contract_ID = 1\n",
      "Human: which are the date when the address added for contact id 1\n",
      "SQLQuery\n",
      "AI: SELCT Date_of_Updation from address WHERE Contract_ID = 1\n"
     ]
    }
   ],
   "source": [
    "from langchain_core.prompts import ChatPromptTemplate, MessagesPlaceholder , FewShotChatMessagePromptTemplate\n",
    "\n",
    "example_prompt = ChatPromptTemplate.from_messages(\n",
    "                [\n",
    "                    (\"human\",\"{input}\\nSQLQuery\"),\n",
    "                    (\"ai\",\"{query}\")\n",
    "                ])\n",
    "\n",
    "few_shot_prompt = FewShotChatMessagePromptTemplate(\n",
    "                example_prompt = example_prompt,\n",
    "                examples = examples,\n",
    "                input_variables=['input','top_k'])\n",
    "\n",
    "print(few_shot_prompt.format(input = \"when was the address added for the contact id 1\"))"
   ]
  },
  {
   "cell_type": "markdown",
   "id": "c9514b66",
   "metadata": {
    "height": 30
   },
   "source": [
    "#### Dynamic Few shot prompt Selection"
   ]
  },
  {
   "cell_type": "code",
   "execution_count": 39,
   "id": "c9939a73",
   "metadata": {
    "height": 64
   },
   "outputs": [],
   "source": [
    "from langchain_community.vectorstores import Chroma\n",
    "from langchain_core.example_selectors import SemanticSimilarityExampleSelector\n",
    "from langchain_openai import OpenAIEmbeddings"
   ]
  },
  {
   "cell_type": "code",
   "execution_count": null,
   "id": "25dc2535",
   "metadata": {
    "height": 183
   },
   "outputs": [],
   "source": [
    "vectorstore = Chroma()\n",
    "vectorstore.delete_collection()\n",
    "example_selector = SemanticSimilarityExampleSelector.from_examples(\n",
    "    examples=examples,\n",
    "    embeddings=OpenAIEmbeddings(),\n",
    "    vectorstore_cls=vectorstore,\n",
    "    input_keys=[\"input\"], \n",
    "    k=3,  # Number of examples to select\n",
    ")\n",
    "example_selector.select_examples({\"input\": \"When was the last address updated for contract id 1?\"})"
   ]
  },
  {
   "cell_type": "code",
   "execution_count": 36,
   "id": "48b2e9b1",
   "metadata": {
    "height": 165
   },
   "outputs": [],
   "source": [
    "final_prompt = ChatPromptTemplate.from_messages(\n",
    "                [\n",
    "                    (\"system\",\"You are a SQLite expert. Given an input question, first create a syntactically correct SQLite query to run, then look at the results of the query and return the answer to the input question.\\n\"\n",
    "                               \"Here is the relevant table info:\\n{table_info}\"),\n",
    "                    few_shot_prompt,\n",
    "                    ('human',\"{input}\")\n",
    "                    \n",
    "                ])"
   ]
  },
  {
   "cell_type": "code",
   "execution_count": 37,
   "id": "aeda8547",
   "metadata": {
    "height": 30
   },
   "outputs": [
    {
     "name": "stdout",
     "output_type": "stream",
     "text": [
      "System: You are a SQLite expert. Given an input question, first create a syntactically correct SQLite query to run, then look at the results of the query and return the answer to the input question.\n",
      "Here is the relevant table info:\n",
      "Dummy Table\n",
      "Human: List all the addresses\n",
      "SQLQuery\n",
      "AI: SELECT Address from address\n",
      "Human: Show me the unique contract Id's\n",
      "SQLQuery\n",
      "AI: SELECT DISTINCT(Contract_ID)from address\n",
      "Human: get me the result associated with the contract ID 1\n",
      "SQLQuery\n",
      "AI: SELECT Address from address WHERE Contract_ID = 1\n",
      "Human: which are the date when the address added for contact id 1\n",
      "SQLQuery\n",
      "AI: SELCT Date_of_Updation from address WHERE Contract_ID = 1\n",
      "Human: Get me the latest dated for contract id 1\n"
     ]
    }
   ],
   "source": [
    "print(final_prompt.format(input=\"Get me the latest dated for contract id 1\", table_info = \"Dummy Table\",top_k=3))"
   ]
  },
  {
   "cell_type": "code",
   "execution_count": 46,
   "id": "ce476d29",
   "metadata": {
    "height": 166
   },
   "outputs": [
    {
     "data": {
      "text/plain": [
       "\"Oh, the last time someone decided to change their address for contract id 1 was in the distant future of 2024. Looks like they're really planning ahead!\""
      ]
     },
     "execution_count": 46,
     "metadata": {},
     "output_type": "execute_result"
    }
   ],
   "source": [
    "generate_query = create_sql_query_chain(model,db,final_prompt)\n",
    "chain = (\n",
    "        RunnablePassthrough.assign(query = generate_query).assign(\n",
    "        result=itemgetter(\"query\")|execute_query)\n",
    "       | rephrase_answer)\n",
    "\n",
    "chain.invoke({\"question\":\"when was the last update of address made for contract id 1\",\n",
    "              \"table_info\" : \"Dummy Table\",\n",
    "              \"top_k\": '3'})"
   ]
  },
  {
   "cell_type": "code",
   "execution_count": null,
   "id": "76fd69f5",
   "metadata": {
    "height": 30
   },
   "outputs": [],
   "source": []
  },
  {
   "cell_type": "code",
   "execution_count": null,
   "id": "614105cd",
   "metadata": {
    "height": 30
   },
   "outputs": [],
   "source": []
  },
  {
   "cell_type": "code",
   "execution_count": null,
   "id": "a886c50f",
   "metadata": {
    "height": 30
   },
   "outputs": [],
   "source": []
  },
  {
   "cell_type": "code",
   "execution_count": null,
   "id": "e3f2a041",
   "metadata": {
    "height": 30
   },
   "outputs": [],
   "source": []
  },
  {
   "cell_type": "markdown",
   "id": "d04311c8",
   "metadata": {
    "height": 30
   },
   "source": [
    "### Email"
   ]
  },
  {
   "cell_type": "code",
   "execution_count": 12,
   "id": "14835493",
   "metadata": {
    "height": 115
   },
   "outputs": [],
   "source": [
    "import smtplib\n",
    "from email.mime.text import MIMEText\n",
    "from email.mime.multipart import MIMEMultipart\n",
    "import logging\n",
    "from langchain.prompts import ChatPromptTemplate, MessagesPlaceholder\n",
    "from langchain_core.tools import BaseTool"
   ]
  },
  {
   "cell_type": "code",
   "execution_count": 16,
   "id": "d64cf353",
   "metadata": {
    "height": 98
   },
   "outputs": [],
   "source": [
    "from pydantic import BaseModel, Field, EmailStr\n",
    "from typing import List,Optional\n",
    "import smtplib\n",
    "from email.mime.multipart import MIMEMultipart\n",
    "from email.mime.text import MIMEText"
   ]
  },
  {
   "cell_type": "code",
   "execution_count": 17,
   "id": "125bb2b4",
   "metadata": {
    "height": 1084
   },
   "outputs": [],
   "source": [
    "from pydantic import BaseModel, Field, EmailStr\n",
    "from typing import Optional\n",
    "from email.message import EmailMessage\n",
    "import ssl\n",
    "import smtplib\n",
    "import logging\n",
    "from langchain.tools import BaseTool\n",
    "\n",
    "# Define the EmailAttributes model\n",
    "class EmailAttributes(BaseModel):\n",
    "    sender_email: EmailStr = Field(description=\"The sender's email address\")\n",
    "    receiver_email: EmailStr = Field(description=\"The receiver's email address\")\n",
    "#     subject: Optional[str] = Field(default=\"No Subject\", description=\"The subject of the email\")\n",
    "#     body: Optional[str] = Field(default=\"No Body Content\", description=\"The body content of the email\")\n",
    "\n",
    "# Define the EmailSenderTool class inheriting from BaseTool\n",
    "class EmailSenderTool(BaseTool):\n",
    "    name = \"email_sender\"\n",
    "    description = \"A tool to send emails with reference ID for address updates.\"\n",
    "\n",
    "    smtp_server: str = \"smtp.gmail.com\"\n",
    "    smtp_port: int = 465\n",
    "    smtp_username: str = \"chatbot.testing.05@gmail.com\"\n",
    "    smtp_password: str = \"dlwg ovip zkso dyow\" #app-specific password\n",
    "\n",
    "    def __init__(self, smtp_server: str = None, smtp_port: int = None, smtp_username: str = None, smtp_password: str = None):\n",
    "        super().__init__()\n",
    "        self.smtp_server = smtp_server or self.smtp_server\n",
    "        self.smtp_port = smtp_port or self.smtp_port\n",
    "        self.smtp_username = smtp_username or self.smtp_username\n",
    "        self.smtp_password = smtp_password or self.smtp_password\n",
    "        # Configure logging\n",
    "        logging.basicConfig(level=logging.INFO)\n",
    "\n",
    "    def send_email(self, email_attributes: EmailAttributes, reference_id: str) -> str:\n",
    "        subject = 'LLP- address Update'\n",
    "        body = f\"\"\"\\\n",
    "        We have received your request for updating the address for your contract id, kindly find your reference id for further communications.\n",
    "\n",
    "        Reference ID: {reference_id}\n",
    "\n",
    "        Regards,\n",
    "        Landlord portal\n",
    "        \"\"\"\n",
    "        \n",
    "        instance = EmailMessage()\n",
    "        instance[\"From\"] = self.smtp_username\n",
    "        instance[\"To\"] = email_attributes.receiver_email\n",
    "        instance[\"Subject\"] = subject\n",
    "        instance.set_content(body)\n",
    "        \n",
    "        context = ssl.create_default_context()\n",
    "\n",
    "        try:\n",
    "            with smtplib.SMTP_SSL(self.smtp_server, self.smtp_port, context=context) as smtp:\n",
    "                smtp.login(self.smtp_username, self.smtp_password)\n",
    "                smtp.sendmail(self.smtp_username, email_attributes.receiver_email, instance.as_string())\n",
    "                logging.info(f\"Email sent successfully to {email_attributes.receiver_email} with reference ID {reference_id}.\")\n",
    "                return \"Email sent successfully.\"\n",
    "        except Exception as e:\n",
    "            logging.error(f\"Failed to send email to {email_attributes.receiver_email} with reference ID {reference_id}. Error: {e}\")\n",
    "            return f\"Failed to send email: {e}\"\n",
    "\n",
    "    def _run(self, email_attributes: EmailAttributes, reference_id: str) -> str:\n",
    "        return self.send_email(email_attributes, reference_id)\n",
    "\n",
    "    async def _arun(self, email_attributes: EmailAttributes, reference_id: str) -> str:\n",
    "        return self.send_email(email_attributes, reference_id)"
   ]
  },
  {
   "cell_type": "code",
   "execution_count": null,
   "id": "3b4972de",
   "metadata": {
    "height": 47
   },
   "outputs": [],
   "source": [
    "# Create an instance of the EmailSenderTool\n",
    "email_sender_tool = EmailSenderTool()"
   ]
  },
  {
   "cell_type": "code",
   "execution_count": 15,
   "id": "a54d3cc0",
   "metadata": {
    "height": 64
   },
   "outputs": [],
   "source": [
    "# Define a method to use this tool in Langchain format\n",
    "def use_email_sender_tool(email_attributes: EmailAttributes, reference_id: str) -> str:\n",
    "    return email_sender_tool._run(email_attributes, reference_id)"
   ]
  },
  {
   "cell_type": "code",
   "execution_count": 16,
   "id": "6ffc7199",
   "metadata": {
    "height": 183
   },
   "outputs": [
    {
     "name": "stderr",
     "output_type": "stream",
     "text": [
      "INFO:root:Email sent successfully to freelancing.aiml@gmail.com with reference ID 123456.\n"
     ]
    },
    {
     "name": "stdout",
     "output_type": "stream",
     "text": [
      "Email sent successfully.\n"
     ]
    }
   ],
   "source": [
    "# Example usage\n",
    "email_attributes = EmailAttributes(\n",
    "    sender_email=\"chatbot.testing.05@gmail.com\",\n",
    "    receiver_email=\"freelancing.aiml@gmail.com\"\n",
    ")\n",
    "reference_id = \"123456\"\n",
    "\n",
    "# Send email using the tool\n",
    "result = use_email_sender_tool(email_attributes, reference_id)\n",
    "print(result)"
   ]
  },
  {
   "cell_type": "code",
   "execution_count": null,
   "id": "f0f0baa0",
   "metadata": {
    "height": 30
   },
   "outputs": [],
   "source": []
  },
  {
   "cell_type": "code",
   "execution_count": null,
   "id": "f8499bc4",
   "metadata": {
    "height": 30
   },
   "outputs": [],
   "source": []
  },
  {
   "cell_type": "code",
   "execution_count": null,
   "id": "fc1c0d5d",
   "metadata": {
    "height": 30
   },
   "outputs": [],
   "source": []
  },
  {
   "cell_type": "code",
   "execution_count": null,
   "id": "153fa40a",
   "metadata": {
    "height": 30
   },
   "outputs": [],
   "source": []
  },
  {
   "cell_type": "code",
   "execution_count": null,
   "id": "dd1425b6",
   "metadata": {
    "height": 30
   },
   "outputs": [],
   "source": []
  },
  {
   "cell_type": "code",
   "execution_count": null,
   "id": "00440e16",
   "metadata": {
    "height": 574
   },
   "outputs": [],
   "source": [
    "# Define the combined chat prompt template for adding a new address\n",
    "add_address_prompt = ChatPromptTemplate.from_messages([\n",
    "    MessagesPlaceholder(variable_name=\"chat_history\"),\n",
    "    (\"system\",\n",
    "        \"You are a helpful and polite landlord portal support agent. Your task is to assist users with updating their address information. Follow these guidelines strictly:\\n\"\n",
    "        \"1. Gather the contract ID information from the user.\\n\"\n",
    "        \"2. Gather address information: address lane, city, state, and zip code.\\n\"\n",
    "        \"3. Do not ask for any other information.\\n\"\n",
    "        \"4. Do not answer any questions outside of address changes.\\n\"\n",
    "        \"5. If the user asks a question unrelated to address changes, respond with: 'My functionality is limited to address changes.'\\n\"\n",
    "        \"\\n\"\n",
    "        \"If the user wants to add a new address, follow these steps:\\n\"\n",
    "        \"Step 1: Ask for the contract ID if it has not already been provided.\\n\"\n",
    "        \"Step 2: Ask for the full address including address lane, city, state (check if the state is located in the USA), and zip code.\\n\"\n",
    "        \"Step 3: Validate that all fields are provided. If any field is missing, prompt the user to provide the missing fields one by one.\\n\"\n",
    "        \"Step 4: Generate a reference ID and respond with: 'Your request for adding a new address is received. Your reference ID is [reference_id] for future communications. Thank you!'\\n\"\n",
    "        \"\\n\"\n",
    "        \"Example Conversation:\\n\"\n",
    "        \"Assistant: Can you provide me with your Contract ID?\\n\"\n",
    "        \"Human: ABC10023\\n\"\n",
    "        \"Assistant: Do you want to replace an existing address or add a new address?\\n\"\n",
    "        \"Human: I want to add an address.\\n\"\n",
    "        \"Assistant: You chose to add a new address. Please provide the full address including address lane, city, state, and zip code.\\n\"\n",
    "        \"User: 123 Main St, Springfield\\n\"\n",
    "        \"Assistant: It seems you missed the state and zip code. Please provide the state.\\n\"\n",
    "        \"Human: Illinois\\n\"\n",
    "        \"Assistant: Please provide the zip code.\\n\"\n",
    "        \"Human: 62704\\n\"\n",
    "        \"Assistant: Thank you. Your request for adding a new address is received. Your reference ID is [reference_id] for future communications. Thank you!\\n\"\n",
    "    ),\n",
    "    (\"user\", \"{user_input}\"),\n",
    "])"
   ]
  }
 ],
 "metadata": {
  "kernelspec": {
   "display_name": "Python 3 (ipykernel)",
   "language": "python",
   "name": "python3"
  },
  "language_info": {
   "codemirror_mode": {
    "name": "ipython",
    "version": 3
   },
   "file_extension": ".py",
   "mimetype": "text/x-python",
   "name": "python",
   "nbconvert_exporter": "python",
   "pygments_lexer": "ipython3",
   "version": "3.11.9"
  }
 },
 "nbformat": 4,
 "nbformat_minor": 5
}
